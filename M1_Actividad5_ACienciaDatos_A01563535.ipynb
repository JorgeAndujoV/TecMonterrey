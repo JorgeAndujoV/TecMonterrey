{
 "cells": [
  {
   "cell_type": "code",
   "execution_count": 41,
   "metadata": {},
   "outputs": [],
   "source": [
    "#Jorge Alfonso Andujo Valdez \n",
    "#A01563535 Ingeniería en Ciencia de Datos y Matemáticas\n",
    "import numpy as np\n",
    "import matplotlib as plt\n",
    "import pandas as pd "
   ]
  },
  {
   "cell_type": "markdown",
   "metadata": {},
   "source": [
    "### Ejercicio 1:"
   ]
  },
  {
   "cell_type": "code",
   "execution_count": 3,
   "metadata": {},
   "outputs": [
    {
     "name": "stdout",
     "output_type": "stream",
     "text": [
      "[0. 0. 0. 0. 0. 0. 0. 0. 0. 0.]\n"
     ]
    }
   ],
   "source": [
    "#1.- Crear un vector “x” con 10 ceros y mostrarlo.\n",
    "x = np.zeros(10)\n",
    "print(x)"
   ]
  },
  {
   "cell_type": "code",
   "execution_count": 4,
   "metadata": {},
   "outputs": [
    {
     "name": "stdout",
     "output_type": "stream",
     "text": [
      "[0. 0. 0. 0. 3. 0. 0. 0. 0. 0.]\n"
     ]
    }
   ],
   "source": [
    "#2.- Modificar el quinto elemento del vector x para que su valor sea 3.\n",
    "x[4] = 3\n",
    "print(x)"
   ]
  },
  {
   "cell_type": "code",
   "execution_count": 5,
   "metadata": {},
   "outputs": [
    {
     "name": "stdout",
     "output_type": "stream",
     "text": [
      "[ 1  2  3  4  5  6  7  8  9 10 11 12 13 14 15 16 17 18 19 20]\n"
     ]
    }
   ],
   "source": [
    "#3.- Crear un vector “y” con valores del 1 al 20, de 1 en 1. Utiliza la función arange.\n",
    "y=np.arange(1,21)\n",
    "print(y)"
   ]
  },
  {
   "cell_type": "code",
   "execution_count": 6,
   "metadata": {},
   "outputs": [
    {
     "name": "stdout",
     "output_type": "stream",
     "text": [
      "[ 2  4  6  8 10 12 14 16 18 20]\n"
     ]
    }
   ],
   "source": [
    "#4.- Crear un vector “z” con valores del 1 al 20, de 2 en 2.\n",
    "z=np.arange(2,21,2)\n",
    "print(z)"
   ]
  },
  {
   "cell_type": "code",
   "execution_count": 7,
   "metadata": {},
   "outputs": [
    {
     "name": "stdout",
     "output_type": "stream",
     "text": [
      "[[0 0]\n",
      " [0 0]\n",
      " [0 0]]\n"
     ]
    }
   ],
   "source": [
    "#5.- Crear una matriz w de 3x2, con valores iniciales en 0.\n",
    "w = np.array([[0, 0], [0, 0], [0,0]])\n",
    "print(w)"
   ]
  },
  {
   "cell_type": "code",
   "execution_count": 8,
   "metadata": {},
   "outputs": [
    {
     "name": "stdout",
     "output_type": "stream",
     "text": [
      "[[0 0]\n",
      " [0 5]\n",
      " [0 0]]\n"
     ]
    }
   ],
   "source": [
    "#6.- Modificar el elemento en la posición 2,2 de la matriz w para que su valor sea 5.\n",
    "w[1,1] = 5\n",
    "print(w)\n",
    "\n",
    "\n"
   ]
  },
  {
   "cell_type": "code",
   "execution_count": 9,
   "metadata": {},
   "outputs": [
    {
     "name": "stdout",
     "output_type": "stream",
     "text": [
      "[ 6 10  4  1  9  6  6  7  7  3]\n"
     ]
    }
   ],
   "source": [
    "#7.- Crear un vector de 5 elementos, con valores aleatorios enteros entre 1 y 10.\n",
    "random_vector = np.random.randint(1,11,10)\n",
    "print(random_vector)"
   ]
  },
  {
   "cell_type": "code",
   "execution_count": 10,
   "metadata": {},
   "outputs": [
    {
     "name": "stdout",
     "output_type": "stream",
     "text": [
      "<class 'list'>\n"
     ]
    }
   ],
   "source": [
    "#8.- Crear el arreglo x1 de la lista [1,2,3]\n",
    "list_1 = np.array([1,2,3])\n",
    "print(list)\n"
   ]
  },
  {
   "cell_type": "code",
   "execution_count": 11,
   "metadata": {},
   "outputs": [
    {
     "name": "stdout",
     "output_type": "stream",
     "text": [
      "[11 12 13]\n"
     ]
    }
   ],
   "source": [
    "#9.-  Sumar 10 a cada elemento del vector\n",
    "list_1 = np.array([1,2,3])\n",
    "for i in range (3):\n",
    "    list_1[i] += 10\n",
    "print(list_1)"
   ]
  },
  {
   "cell_type": "markdown",
   "metadata": {},
   "source": [
    "### Ejercicio 2"
   ]
  },
  {
   "cell_type": "code",
   "execution_count": 12,
   "metadata": {},
   "outputs": [
    {
     "name": "stdout",
     "output_type": "stream",
     "text": [
      "     PassengerId  Survived  Pclass  \\\n",
      "0              1         0       3   \n",
      "1              2         1       1   \n",
      "2              3         1       3   \n",
      "3              4         1       1   \n",
      "4              5         0       3   \n",
      "..           ...       ...     ...   \n",
      "886          887         0       2   \n",
      "887          888         1       1   \n",
      "888          889         0       3   \n",
      "889          890         1       1   \n",
      "890          891         0       3   \n",
      "\n",
      "                                                  Name     Sex   Age  SibSp  \\\n",
      "0                              Braund, Mr. Owen Harris    male  22.0      1   \n",
      "1    Cumings, Mrs. John Bradley (Florence Briggs Th...  female  38.0      1   \n",
      "2                               Heikkinen, Miss. Laina  female  26.0      0   \n",
      "3         Futrelle, Mrs. Jacques Heath (Lily May Peel)  female  35.0      1   \n",
      "4                             Allen, Mr. William Henry    male  35.0      0   \n",
      "..                                                 ...     ...   ...    ...   \n",
      "886                              Montvila, Rev. Juozas    male  27.0      0   \n",
      "887                       Graham, Miss. Margaret Edith  female  19.0      0   \n",
      "888           Johnston, Miss. Catherine Helen \"Carrie\"  female   NaN      1   \n",
      "889                              Behr, Mr. Karl Howell    male  26.0      0   \n",
      "890                                Dooley, Mr. Patrick    male  32.0      0   \n",
      "\n",
      "     Parch            Ticket     Fare Cabin Embarked  \n",
      "0        0         A/5 21171   7.2500   NaN        S  \n",
      "1        0          PC 17599  71.2833   C85        C  \n",
      "2        0  STON/O2. 3101282   7.9250   NaN        S  \n",
      "3        0            113803  53.1000  C123        S  \n",
      "4        0            373450   8.0500   NaN        S  \n",
      "..     ...               ...      ...   ...      ...  \n",
      "886      0            211536  13.0000   NaN        S  \n",
      "887      0            112053  30.0000   B42        S  \n",
      "888      2        W./C. 6607  23.4500   NaN        S  \n",
      "889      0            111369  30.0000  C148        C  \n",
      "890      0            370376   7.7500   NaN        Q  \n",
      "\n",
      "[891 rows x 12 columns]\n"
     ]
    }
   ],
   "source": [
    "#1. Generar un DataFrame con los datos del archivo\n",
    "data = pd.read_csv('titanic-1.csv')\n",
    "df = pd.DataFrame(data)\n",
    "print(df)\n"
   ]
  },
  {
   "cell_type": "code",
   "execution_count": 13,
   "metadata": {},
   "outputs": [
    {
     "name": "stdout",
     "output_type": "stream",
     "text": [
      "<class 'pandas.core.frame.DataFrame'>\n",
      "RangeIndex: 891 entries, 0 to 890\n",
      "Data columns (total 12 columns):\n",
      " #   Column       Non-Null Count  Dtype  \n",
      "---  ------       --------------  -----  \n",
      " 0   PassengerId  891 non-null    int64  \n",
      " 1   Survived     891 non-null    int64  \n",
      " 2   Pclass       891 non-null    int64  \n",
      " 3   Name         891 non-null    object \n",
      " 4   Sex          891 non-null    object \n",
      " 5   Age          714 non-null    float64\n",
      " 6   SibSp        891 non-null    int64  \n",
      " 7   Parch        891 non-null    int64  \n",
      " 8   Ticket       891 non-null    object \n",
      " 9   Fare         891 non-null    float64\n",
      " 10  Cabin        204 non-null    object \n",
      " 11  Embarked     889 non-null    object \n",
      "dtypes: float64(2), int64(5), object(5)\n",
      "memory usage: 83.7+ KB\n"
     ]
    },
    {
     "data": {
      "text/html": [
       "<div>\n",
       "<style scoped>\n",
       "    .dataframe tbody tr th:only-of-type {\n",
       "        vertical-align: middle;\n",
       "    }\n",
       "\n",
       "    .dataframe tbody tr th {\n",
       "        vertical-align: top;\n",
       "    }\n",
       "\n",
       "    .dataframe thead th {\n",
       "        text-align: right;\n",
       "    }\n",
       "</style>\n",
       "<table border=\"1\" class=\"dataframe\">\n",
       "  <thead>\n",
       "    <tr style=\"text-align: right;\">\n",
       "      <th></th>\n",
       "      <th>PassengerId</th>\n",
       "      <th>Survived</th>\n",
       "      <th>Pclass</th>\n",
       "      <th>Name</th>\n",
       "      <th>Sex</th>\n",
       "      <th>Age</th>\n",
       "      <th>SibSp</th>\n",
       "      <th>Parch</th>\n",
       "      <th>Ticket</th>\n",
       "      <th>Fare</th>\n",
       "      <th>Cabin</th>\n",
       "      <th>Embarked</th>\n",
       "    </tr>\n",
       "  </thead>\n",
       "  <tbody>\n",
       "    <tr>\n",
       "      <th>881</th>\n",
       "      <td>882</td>\n",
       "      <td>0</td>\n",
       "      <td>3</td>\n",
       "      <td>Markun, Mr. Johann</td>\n",
       "      <td>male</td>\n",
       "      <td>33.0</td>\n",
       "      <td>0</td>\n",
       "      <td>0</td>\n",
       "      <td>349257</td>\n",
       "      <td>7.8958</td>\n",
       "      <td>NaN</td>\n",
       "      <td>S</td>\n",
       "    </tr>\n",
       "    <tr>\n",
       "      <th>882</th>\n",
       "      <td>883</td>\n",
       "      <td>0</td>\n",
       "      <td>3</td>\n",
       "      <td>Dahlberg, Miss. Gerda Ulrika</td>\n",
       "      <td>female</td>\n",
       "      <td>22.0</td>\n",
       "      <td>0</td>\n",
       "      <td>0</td>\n",
       "      <td>7552</td>\n",
       "      <td>10.5167</td>\n",
       "      <td>NaN</td>\n",
       "      <td>S</td>\n",
       "    </tr>\n",
       "    <tr>\n",
       "      <th>883</th>\n",
       "      <td>884</td>\n",
       "      <td>0</td>\n",
       "      <td>2</td>\n",
       "      <td>Banfield, Mr. Frederick James</td>\n",
       "      <td>male</td>\n",
       "      <td>28.0</td>\n",
       "      <td>0</td>\n",
       "      <td>0</td>\n",
       "      <td>C.A./SOTON 34068</td>\n",
       "      <td>10.5000</td>\n",
       "      <td>NaN</td>\n",
       "      <td>S</td>\n",
       "    </tr>\n",
       "    <tr>\n",
       "      <th>884</th>\n",
       "      <td>885</td>\n",
       "      <td>0</td>\n",
       "      <td>3</td>\n",
       "      <td>Sutehall, Mr. Henry Jr</td>\n",
       "      <td>male</td>\n",
       "      <td>25.0</td>\n",
       "      <td>0</td>\n",
       "      <td>0</td>\n",
       "      <td>SOTON/OQ 392076</td>\n",
       "      <td>7.0500</td>\n",
       "      <td>NaN</td>\n",
       "      <td>S</td>\n",
       "    </tr>\n",
       "    <tr>\n",
       "      <th>885</th>\n",
       "      <td>886</td>\n",
       "      <td>0</td>\n",
       "      <td>3</td>\n",
       "      <td>Rice, Mrs. William (Margaret Norton)</td>\n",
       "      <td>female</td>\n",
       "      <td>39.0</td>\n",
       "      <td>0</td>\n",
       "      <td>5</td>\n",
       "      <td>382652</td>\n",
       "      <td>29.1250</td>\n",
       "      <td>NaN</td>\n",
       "      <td>Q</td>\n",
       "    </tr>\n",
       "    <tr>\n",
       "      <th>886</th>\n",
       "      <td>887</td>\n",
       "      <td>0</td>\n",
       "      <td>2</td>\n",
       "      <td>Montvila, Rev. Juozas</td>\n",
       "      <td>male</td>\n",
       "      <td>27.0</td>\n",
       "      <td>0</td>\n",
       "      <td>0</td>\n",
       "      <td>211536</td>\n",
       "      <td>13.0000</td>\n",
       "      <td>NaN</td>\n",
       "      <td>S</td>\n",
       "    </tr>\n",
       "    <tr>\n",
       "      <th>887</th>\n",
       "      <td>888</td>\n",
       "      <td>1</td>\n",
       "      <td>1</td>\n",
       "      <td>Graham, Miss. Margaret Edith</td>\n",
       "      <td>female</td>\n",
       "      <td>19.0</td>\n",
       "      <td>0</td>\n",
       "      <td>0</td>\n",
       "      <td>112053</td>\n",
       "      <td>30.0000</td>\n",
       "      <td>B42</td>\n",
       "      <td>S</td>\n",
       "    </tr>\n",
       "    <tr>\n",
       "      <th>888</th>\n",
       "      <td>889</td>\n",
       "      <td>0</td>\n",
       "      <td>3</td>\n",
       "      <td>Johnston, Miss. Catherine Helen \"Carrie\"</td>\n",
       "      <td>female</td>\n",
       "      <td>NaN</td>\n",
       "      <td>1</td>\n",
       "      <td>2</td>\n",
       "      <td>W./C. 6607</td>\n",
       "      <td>23.4500</td>\n",
       "      <td>NaN</td>\n",
       "      <td>S</td>\n",
       "    </tr>\n",
       "    <tr>\n",
       "      <th>889</th>\n",
       "      <td>890</td>\n",
       "      <td>1</td>\n",
       "      <td>1</td>\n",
       "      <td>Behr, Mr. Karl Howell</td>\n",
       "      <td>male</td>\n",
       "      <td>26.0</td>\n",
       "      <td>0</td>\n",
       "      <td>0</td>\n",
       "      <td>111369</td>\n",
       "      <td>30.0000</td>\n",
       "      <td>C148</td>\n",
       "      <td>C</td>\n",
       "    </tr>\n",
       "    <tr>\n",
       "      <th>890</th>\n",
       "      <td>891</td>\n",
       "      <td>0</td>\n",
       "      <td>3</td>\n",
       "      <td>Dooley, Mr. Patrick</td>\n",
       "      <td>male</td>\n",
       "      <td>32.0</td>\n",
       "      <td>0</td>\n",
       "      <td>0</td>\n",
       "      <td>370376</td>\n",
       "      <td>7.7500</td>\n",
       "      <td>NaN</td>\n",
       "      <td>Q</td>\n",
       "    </tr>\n",
       "  </tbody>\n",
       "</table>\n",
       "</div>"
      ],
      "text/plain": [
       "     PassengerId  Survived  Pclass                                      Name  \\\n",
       "881          882         0       3                        Markun, Mr. Johann   \n",
       "882          883         0       3              Dahlberg, Miss. Gerda Ulrika   \n",
       "883          884         0       2             Banfield, Mr. Frederick James   \n",
       "884          885         0       3                    Sutehall, Mr. Henry Jr   \n",
       "885          886         0       3      Rice, Mrs. William (Margaret Norton)   \n",
       "886          887         0       2                     Montvila, Rev. Juozas   \n",
       "887          888         1       1              Graham, Miss. Margaret Edith   \n",
       "888          889         0       3  Johnston, Miss. Catherine Helen \"Carrie\"   \n",
       "889          890         1       1                     Behr, Mr. Karl Howell   \n",
       "890          891         0       3                       Dooley, Mr. Patrick   \n",
       "\n",
       "        Sex   Age  SibSp  Parch            Ticket     Fare Cabin Embarked  \n",
       "881    male  33.0      0      0            349257   7.8958   NaN        S  \n",
       "882  female  22.0      0      0              7552  10.5167   NaN        S  \n",
       "883    male  28.0      0      0  C.A./SOTON 34068  10.5000   NaN        S  \n",
       "884    male  25.0      0      0   SOTON/OQ 392076   7.0500   NaN        S  \n",
       "885  female  39.0      0      5            382652  29.1250   NaN        Q  \n",
       "886    male  27.0      0      0            211536  13.0000   NaN        S  \n",
       "887  female  19.0      0      0            112053  30.0000   B42        S  \n",
       "888  female   NaN      1      2        W./C. 6607  23.4500   NaN        S  \n",
       "889    male  26.0      0      0            111369  30.0000  C148        C  \n",
       "890    male  32.0      0      0            370376   7.7500   NaN        Q  "
      ]
     },
     "execution_count": 13,
     "metadata": {},
     "output_type": "execute_result"
    }
   ],
   "source": [
    "#2. Mostrar por pantalla las dimensiones del DataFrame, el número de datos que contiene, los nombres de sus columnas y filas, \n",
    "# los tipos de datos de las columnas, las 10 primeras filas y las 10 últimas filas\n",
    "df.info()\n",
    "df.head(10)\n",
    "df.tail(10)"
   ]
  },
  {
   "cell_type": "code",
   "execution_count": 14,
   "metadata": {},
   "outputs": [
    {
     "name": "stdout",
     "output_type": "stream",
     "text": [
      "PassengerId                                 148\n",
      "Survived                                      0\n",
      "Pclass                                        3\n",
      "Name           Ford, Miss. Robina Maggie \"Ruby\"\n",
      "Sex                                      female\n",
      "Age                                         9.0\n",
      "SibSp                                         2\n",
      "Parch                                         2\n",
      "Ticket                               W./C. 6608\n",
      "Fare                                     34.375\n",
      "Cabin                                       NaN\n",
      "Embarked                                      S\n",
      "Name: 147, dtype: object\n"
     ]
    }
   ],
   "source": [
    "#3.Mostrar por pantalla los datos del pasajero con identificador 148.\n",
    "print(df.loc[147])\n"
   ]
  },
  {
   "cell_type": "code",
   "execution_count": 15,
   "metadata": {},
   "outputs": [
    {
     "name": "stdout",
     "output_type": "stream",
     "text": [
      "     PassengerId  Survived  Pclass  \\\n",
      "0              1         0       3   \n",
      "2              3         1       3   \n",
      "4              5         0       3   \n",
      "6              7         0       1   \n",
      "8              9         1       3   \n",
      "..           ...       ...     ...   \n",
      "882          883         0       3   \n",
      "884          885         0       3   \n",
      "886          887         0       2   \n",
      "888          889         0       3   \n",
      "890          891         0       3   \n",
      "\n",
      "                                                  Name     Sex   Age  SibSp  \\\n",
      "0                              Braund, Mr. Owen Harris    male  22.0      1   \n",
      "2                               Heikkinen, Miss. Laina  female  26.0      0   \n",
      "4                             Allen, Mr. William Henry    male  35.0      0   \n",
      "6                              McCarthy, Mr. Timothy J    male  54.0      0   \n",
      "8    Johnson, Mrs. Oscar W (Elisabeth Vilhelmina Berg)  female  27.0      0   \n",
      "..                                                 ...     ...   ...    ...   \n",
      "882                       Dahlberg, Miss. Gerda Ulrika  female  22.0      0   \n",
      "884                             Sutehall, Mr. Henry Jr    male  25.0      0   \n",
      "886                              Montvila, Rev. Juozas    male  27.0      0   \n",
      "888           Johnston, Miss. Catherine Helen \"Carrie\"  female   NaN      1   \n",
      "890                                Dooley, Mr. Patrick    male  32.0      0   \n",
      "\n",
      "     Parch            Ticket     Fare Cabin Embarked  \n",
      "0        0         A/5 21171   7.2500   NaN        S  \n",
      "2        0  STON/O2. 3101282   7.9250   NaN        S  \n",
      "4        0            373450   8.0500   NaN        S  \n",
      "6        0             17463  51.8625   E46        S  \n",
      "8        2            347742  11.1333   NaN        S  \n",
      "..     ...               ...      ...   ...      ...  \n",
      "882      0              7552  10.5167   NaN        S  \n",
      "884      0   SOTON/OQ 392076   7.0500   NaN        S  \n",
      "886      0            211536  13.0000   NaN        S  \n",
      "888      2        W./C. 6607  23.4500   NaN        S  \n",
      "890      0            370376   7.7500   NaN        Q  \n",
      "\n",
      "[446 rows x 12 columns]\n"
     ]
    }
   ],
   "source": [
    "#4.Mostrar por pantalla las filas pares del DataFrame.\n",
    "print(df.iloc[::2])"
   ]
  },
  {
   "cell_type": "code",
   "execution_count": 16,
   "metadata": {},
   "outputs": [
    {
     "name": "stdout",
     "output_type": "stream",
     "text": [
      "     PassengerId  Survived  Pclass  \\\n",
      "730          731         1       1   \n",
      "305          306         1       1   \n",
      "297          298         0       1   \n",
      "498          499         0       1   \n",
      "460          461         1       1   \n",
      "..           ...       ...     ...   \n",
      "155          156         0       1   \n",
      "351          352         0       1   \n",
      "55            56         1       1   \n",
      "555          556         0       1   \n",
      "325          326         1       1   \n",
      "\n",
      "                                                Name     Sex    Age  SibSp  \\\n",
      "730                    Allen, Miss. Elisabeth Walton  female  29.00      0   \n",
      "305                   Allison, Master. Hudson Trevor    male   0.92      1   \n",
      "297                     Allison, Miss. Helen Loraine  female   2.00      1   \n",
      "498  Allison, Mrs. Hudson J C (Bessie Waldo Daniels)  female  25.00      1   \n",
      "460                              Anderson, Mr. Harry    male  48.00      0   \n",
      "..                                               ...     ...    ...    ...   \n",
      "155                      Williams, Mr. Charles Duane    male  51.00      0   \n",
      "351           Williams-Lambert, Mr. Fletcher Fellows    male    NaN      0   \n",
      "55                                 Woolner, Mr. Hugh    male    NaN      0   \n",
      "555                               Wright, Mr. George    male  62.00      0   \n",
      "325                         Young, Miss. Marie Grice  female  36.00      0   \n",
      "\n",
      "     Parch    Ticket      Fare    Cabin Embarked  \n",
      "730      0     24160  211.3375       B5        S  \n",
      "305      2    113781  151.5500  C22 C26        S  \n",
      "297      2    113781  151.5500  C22 C26        S  \n",
      "498      2    113781  151.5500  C22 C26        S  \n",
      "460      0     19952   26.5500      E12        S  \n",
      "..     ...       ...       ...      ...      ...  \n",
      "155      1  PC 17597   61.3792      NaN        C  \n",
      "351      0    113510   35.0000     C128        S  \n",
      "55       0     19947   35.5000      C52        S  \n",
      "555      0    113807   26.5500      NaN        S  \n",
      "325      0  PC 17760  135.6333      C32        C  \n",
      "\n",
      "[216 rows x 12 columns]\n"
     ]
    }
   ],
   "source": [
    "#5.Mostrar por pantalla los nombres de las personas que iban en primera clase ordenadas alfabéticamente.\n",
    "df_1 = df[df['Pclass'] == 1]\n",
    "print(df_1.sort_values('Name'))"
   ]
  },
  {
   "cell_type": "code",
   "execution_count": 17,
   "metadata": {},
   "outputs": [
    {
     "name": "stdout",
     "output_type": "stream",
     "text": [
      "Survived\n",
      "0    61.616162\n",
      "1    38.383838\n",
      "Name: count, dtype: float64\n"
     ]
    }
   ],
   "source": [
    "#6.Mostrar por pantalla el porcentaje de personas que sobrevivieron y murieron.\n",
    "survived = df['Survived'].value_counts()\n",
    "print(survived/len(df)*100)"
   ]
  },
  {
   "cell_type": "code",
   "execution_count": 18,
   "metadata": {},
   "outputs": [
    {
     "name": "stdout",
     "output_type": "stream",
     "text": [
      "Pclass\n",
      "1    62.962963\n",
      "2    47.282609\n",
      "3    24.236253\n",
      "Name: proportion, dtype: float64\n"
     ]
    }
   ],
   "source": [
    "#7.Mostrar por pantalla el porcentaje de personas que sobrevivieron en cada clase.\n",
    "survived_class = df.groupby('Pclass')['Survived'].value_counts(normalize=True)\n",
    "print(survived_class[:,1]*100)"
   ]
  },
  {
   "cell_type": "code",
   "execution_count": 19,
   "metadata": {},
   "outputs": [
    {
     "name": "stdout",
     "output_type": "stream",
     "text": [
      "     PassengerId  Survived  Pclass  \\\n",
      "0              1         0       3   \n",
      "1              2         1       1   \n",
      "2              3         1       3   \n",
      "3              4         1       1   \n",
      "4              5         0       3   \n",
      "..           ...       ...     ...   \n",
      "885          886         0       3   \n",
      "886          887         0       2   \n",
      "887          888         1       1   \n",
      "889          890         1       1   \n",
      "890          891         0       3   \n",
      "\n",
      "                                                  Name     Sex   Age  SibSp  \\\n",
      "0                              Braund, Mr. Owen Harris    male  22.0      1   \n",
      "1    Cumings, Mrs. John Bradley (Florence Briggs Th...  female  38.0      1   \n",
      "2                               Heikkinen, Miss. Laina  female  26.0      0   \n",
      "3         Futrelle, Mrs. Jacques Heath (Lily May Peel)  female  35.0      1   \n",
      "4                             Allen, Mr. William Henry    male  35.0      0   \n",
      "..                                                 ...     ...   ...    ...   \n",
      "885               Rice, Mrs. William (Margaret Norton)  female  39.0      0   \n",
      "886                              Montvila, Rev. Juozas    male  27.0      0   \n",
      "887                       Graham, Miss. Margaret Edith  female  19.0      0   \n",
      "889                              Behr, Mr. Karl Howell    male  26.0      0   \n",
      "890                                Dooley, Mr. Patrick    male  32.0      0   \n",
      "\n",
      "     Parch            Ticket     Fare Cabin Embarked  \n",
      "0        0         A/5 21171   7.2500   NaN        S  \n",
      "1        0          PC 17599  71.2833   C85        C  \n",
      "2        0  STON/O2. 3101282   7.9250   NaN        S  \n",
      "3        0            113803  53.1000  C123        S  \n",
      "4        0            373450   8.0500   NaN        S  \n",
      "..     ...               ...      ...   ...      ...  \n",
      "885      5            382652  29.1250   NaN        Q  \n",
      "886      0            211536  13.0000   NaN        S  \n",
      "887      0            112053  30.0000   B42        S  \n",
      "889      0            111369  30.0000  C148        C  \n",
      "890      0            370376   7.7500   NaN        Q  \n",
      "\n",
      "[714 rows x 12 columns]\n"
     ]
    }
   ],
   "source": [
    "#8.Eliminar del DataFrame los pasajeros con edad desconocida.\n",
    "df.dropna(subset=['Age'], inplace=True)\n",
    "print(df)"
   ]
  },
  {
   "cell_type": "code",
   "execution_count": 21,
   "metadata": {},
   "outputs": [
    {
     "name": "stdout",
     "output_type": "stream",
     "text": [
      "Pclass\n",
      "1    38.233441\n",
      "2    29.877630\n",
      "3    25.140620\n",
      "Name: Age, dtype: float64\n"
     ]
    }
   ],
   "source": [
    "#9. Mostrar por pantalla la edad media de las mujeres que viajaban en cada clase.\n",
    "age_mean = df.groupby(['Pclass',])['Age'].mean()\n",
    "print(age_mean)"
   ]
  },
  {
   "cell_type": "code",
   "execution_count": 28,
   "metadata": {},
   "outputs": [
    {
     "name": "stdout",
     "output_type": "stream",
     "text": [
      "<class 'pandas.core.frame.DataFrame'>\n",
      "Index: 714 entries, 0 to 890\n",
      "Data columns (total 14 columns):\n",
      " #   Column         Non-Null Count  Dtype  \n",
      "---  ------         --------------  -----  \n",
      " 0   PassengerId    714 non-null    int64  \n",
      " 1   Survived       714 non-null    int64  \n",
      " 2   Pclass         714 non-null    int64  \n",
      " 3   Name           714 non-null    object \n",
      " 4   Sex            714 non-null    object \n",
      " 5   Age            714 non-null    float64\n",
      " 6   SibSp          714 non-null    int64  \n",
      " 7   Parch          714 non-null    int64  \n",
      " 8   Ticket         714 non-null    object \n",
      " 9   Fare           714 non-null    float64\n",
      " 10  Cabin          185 non-null    object \n",
      " 11  Embarked       712 non-null    object \n",
      " 12  Young          714 non-null    bool   \n",
      " 13  Menor_de_edad  714 non-null    bool   \n",
      "dtypes: bool(2), float64(2), int64(5), object(5)\n",
      "memory usage: 73.9+ KB\n"
     ]
    }
   ],
   "source": [
    "#10. Añadir una nueva columna booleana para ver si el pasajero era menor de edad o no.\n",
    "df['Menor_de_edad'] = df['Age'] < 18\n",
    "df.info()"
   ]
  },
  {
   "cell_type": "code",
   "execution_count": 30,
   "metadata": {},
   "outputs": [
    {
     "name": "stdout",
     "output_type": "stream",
     "text": [
      "Pclass\n",
      "1     6.451613\n",
      "2    13.294798\n",
      "3    21.971831\n",
      "Name: proportion, dtype: float64\n"
     ]
    }
   ],
   "source": [
    "#11. Mostrar por pantalla el porcentaje de menores y mayores de edad que sobrevivieron en cada clase.\n",
    "menores = df.groupby('Pclass')['Menor_de_edad'].value_counts(normalize=True)\n",
    "print(menores[:,True]*100)"
   ]
  },
  {
   "cell_type": "markdown",
   "metadata": {},
   "source": [
    "### Ejercicio 3"
   ]
  },
  {
   "cell_type": "code",
   "execution_count": 32,
   "metadata": {},
   "outputs": [],
   "source": [
    "#1. Generar un dataframe con los datos del archivo.\n",
    "new_data = pd.read_csv('C:/Users/anduj/Documents/Tecnologico_de_monterrey/Analisis_de_ciencia_de_datos/Programacion/casasboston.csv')\n",
    "new_df = pd.DataFrame(new_data)"
   ]
  },
  {
   "cell_type": "code",
   "execution_count": 34,
   "metadata": {},
   "outputs": [
    {
     "name": "stdout",
     "output_type": "stream",
     "text": [
      "<class 'pandas.core.frame.DataFrame'>\n",
      "RangeIndex: 506 entries, 0 to 505\n",
      "Data columns (total 17 columns):\n",
      " #   Column                Non-Null Count  Dtype  \n",
      "---  ------                --------------  -----  \n",
      " 0   CIUDAD                506 non-null    object \n",
      " 1   LON                   506 non-null    float64\n",
      " 2   LAT                   506 non-null    float64\n",
      " 3   VALOR_MEDIANO         506 non-null    float64\n",
      " 4   INDICE_CRIMEN         506 non-null    float64\n",
      " 5   ZN                    506 non-null    float64\n",
      " 6   PCT_ZONA_INDUSTRIAL   506 non-null    float64\n",
      " 7   RIO_CHARLES           506 non-null    int64  \n",
      " 8   NOX                   506 non-null    float64\n",
      " 9   N_HABITACIONES_MEDIO  506 non-null    float64\n",
      " 10  EDAD                  506 non-null    float64\n",
      " 11  DIS                   506 non-null    float64\n",
      " 12  RAD                   506 non-null    int64  \n",
      " 13  TAX                   506 non-null    int64  \n",
      " 14  PTRATIO               506 non-null    float64\n",
      " 15  B                     506 non-null    float64\n",
      " 16  PCT_CLASE_BAJA        506 non-null    float64\n",
      "dtypes: float64(13), int64(3), object(1)\n",
      "memory usage: 67.3+ KB\n"
     ]
    }
   ],
   "source": [
    "#2. Reduce el dataframe utilizando y renombrando las columnas de acuerdo a los siguiente:\n",
    "'''\n",
    "\"TOWN\":\"CIUDAD\",\n",
    "\"CRIM\":\"INDICE_CRIMEN\",\n",
    "\"INDUS\":\"PCT_ZONA_INDUSTRIAL\",\n",
    "\"CHAS\":\"RIO_CHARLES\",\n",
    "\"RM\":\"N_HABITACIONES_MEDIO\",\n",
    "\"MEDV\":\"VALOR_MEDIANO\",\n",
    "\"LSTAT\":\"PCT_CLASE_BAJA\"\n",
    "\"AGE\" : \"EDAD\"\n",
    "'''\n",
    "new_df.rename(columns = {\"TOWN\":\"CIUDAD\",\"CRIM\":\"INDICE_CRIMEN\",\"INDUS\":\"PCT_ZONA_INDUSTRIAL\",\"CHAS\":\"RIO_CHARLES\",\"RM\":\"N_HABITACIONES_MEDIO\",\"MEDV\":\"VALOR_MEDIANO\",\"LSTAT\":\"PCT_CLASE_BAJA\",\"AGE\":\"EDAD\"}, inplace = True)\n",
    "new_df.info()"
   ]
  },
  {
   "cell_type": "code",
   "execution_count": 35,
   "metadata": {},
   "outputs": [
    {
     "data": {
      "text/html": [
       "<div>\n",
       "<style scoped>\n",
       "    .dataframe tbody tr th:only-of-type {\n",
       "        vertical-align: middle;\n",
       "    }\n",
       "\n",
       "    .dataframe tbody tr th {\n",
       "        vertical-align: top;\n",
       "    }\n",
       "\n",
       "    .dataframe thead th {\n",
       "        text-align: right;\n",
       "    }\n",
       "</style>\n",
       "<table border=\"1\" class=\"dataframe\">\n",
       "  <thead>\n",
       "    <tr style=\"text-align: right;\">\n",
       "      <th></th>\n",
       "      <th>LON</th>\n",
       "      <th>LAT</th>\n",
       "      <th>VALOR_MEDIANO</th>\n",
       "      <th>INDICE_CRIMEN</th>\n",
       "      <th>ZN</th>\n",
       "      <th>PCT_ZONA_INDUSTRIAL</th>\n",
       "      <th>RIO_CHARLES</th>\n",
       "      <th>NOX</th>\n",
       "      <th>N_HABITACIONES_MEDIO</th>\n",
       "      <th>EDAD</th>\n",
       "      <th>DIS</th>\n",
       "      <th>RAD</th>\n",
       "      <th>TAX</th>\n",
       "      <th>PTRATIO</th>\n",
       "      <th>B</th>\n",
       "      <th>PCT_CLASE_BAJA</th>\n",
       "    </tr>\n",
       "  </thead>\n",
       "  <tbody>\n",
       "    <tr>\n",
       "      <th>count</th>\n",
       "      <td>506.000000</td>\n",
       "      <td>506.000000</td>\n",
       "      <td>506.000000</td>\n",
       "      <td>506.000000</td>\n",
       "      <td>506.000000</td>\n",
       "      <td>506.000000</td>\n",
       "      <td>506.000000</td>\n",
       "      <td>506.000000</td>\n",
       "      <td>506.000000</td>\n",
       "      <td>506.000000</td>\n",
       "      <td>506.000000</td>\n",
       "      <td>506.000000</td>\n",
       "      <td>506.000000</td>\n",
       "      <td>506.000000</td>\n",
       "      <td>506.000000</td>\n",
       "      <td>506.000000</td>\n",
       "    </tr>\n",
       "    <tr>\n",
       "      <th>mean</th>\n",
       "      <td>-71.056389</td>\n",
       "      <td>42.216440</td>\n",
       "      <td>22.528854</td>\n",
       "      <td>3.613524</td>\n",
       "      <td>11.363636</td>\n",
       "      <td>11.136779</td>\n",
       "      <td>0.069170</td>\n",
       "      <td>0.554695</td>\n",
       "      <td>6.284634</td>\n",
       "      <td>68.574901</td>\n",
       "      <td>3.795043</td>\n",
       "      <td>9.549407</td>\n",
       "      <td>408.237154</td>\n",
       "      <td>18.455534</td>\n",
       "      <td>356.674032</td>\n",
       "      <td>12.653063</td>\n",
       "    </tr>\n",
       "    <tr>\n",
       "      <th>std</th>\n",
       "      <td>0.075405</td>\n",
       "      <td>0.061777</td>\n",
       "      <td>9.182176</td>\n",
       "      <td>8.601545</td>\n",
       "      <td>23.322453</td>\n",
       "      <td>6.860353</td>\n",
       "      <td>0.253994</td>\n",
       "      <td>0.115878</td>\n",
       "      <td>0.702617</td>\n",
       "      <td>28.148861</td>\n",
       "      <td>2.105710</td>\n",
       "      <td>8.707259</td>\n",
       "      <td>168.537116</td>\n",
       "      <td>2.164946</td>\n",
       "      <td>91.294864</td>\n",
       "      <td>7.141062</td>\n",
       "    </tr>\n",
       "    <tr>\n",
       "      <th>min</th>\n",
       "      <td>-71.289500</td>\n",
       "      <td>42.030000</td>\n",
       "      <td>5.000000</td>\n",
       "      <td>0.006320</td>\n",
       "      <td>0.000000</td>\n",
       "      <td>0.460000</td>\n",
       "      <td>0.000000</td>\n",
       "      <td>0.385000</td>\n",
       "      <td>3.561000</td>\n",
       "      <td>2.900000</td>\n",
       "      <td>1.129600</td>\n",
       "      <td>1.000000</td>\n",
       "      <td>187.000000</td>\n",
       "      <td>12.600000</td>\n",
       "      <td>0.320000</td>\n",
       "      <td>1.730000</td>\n",
       "    </tr>\n",
       "    <tr>\n",
       "      <th>25%</th>\n",
       "      <td>-71.093225</td>\n",
       "      <td>42.180775</td>\n",
       "      <td>17.025000</td>\n",
       "      <td>0.082045</td>\n",
       "      <td>0.000000</td>\n",
       "      <td>5.190000</td>\n",
       "      <td>0.000000</td>\n",
       "      <td>0.449000</td>\n",
       "      <td>5.885500</td>\n",
       "      <td>45.025000</td>\n",
       "      <td>2.100175</td>\n",
       "      <td>4.000000</td>\n",
       "      <td>279.000000</td>\n",
       "      <td>17.400000</td>\n",
       "      <td>375.377500</td>\n",
       "      <td>6.950000</td>\n",
       "    </tr>\n",
       "    <tr>\n",
       "      <th>50%</th>\n",
       "      <td>-71.052900</td>\n",
       "      <td>42.218100</td>\n",
       "      <td>21.200000</td>\n",
       "      <td>0.256510</td>\n",
       "      <td>0.000000</td>\n",
       "      <td>9.690000</td>\n",
       "      <td>0.000000</td>\n",
       "      <td>0.538000</td>\n",
       "      <td>6.208500</td>\n",
       "      <td>77.500000</td>\n",
       "      <td>3.207450</td>\n",
       "      <td>5.000000</td>\n",
       "      <td>330.000000</td>\n",
       "      <td>19.050000</td>\n",
       "      <td>391.440000</td>\n",
       "      <td>11.360000</td>\n",
       "    </tr>\n",
       "    <tr>\n",
       "      <th>75%</th>\n",
       "      <td>-71.019625</td>\n",
       "      <td>42.252250</td>\n",
       "      <td>25.000000</td>\n",
       "      <td>3.677083</td>\n",
       "      <td>12.500000</td>\n",
       "      <td>18.100000</td>\n",
       "      <td>0.000000</td>\n",
       "      <td>0.624000</td>\n",
       "      <td>6.623500</td>\n",
       "      <td>94.075000</td>\n",
       "      <td>5.188425</td>\n",
       "      <td>24.000000</td>\n",
       "      <td>666.000000</td>\n",
       "      <td>20.200000</td>\n",
       "      <td>396.225000</td>\n",
       "      <td>16.955000</td>\n",
       "    </tr>\n",
       "    <tr>\n",
       "      <th>max</th>\n",
       "      <td>-70.810000</td>\n",
       "      <td>42.381000</td>\n",
       "      <td>50.000000</td>\n",
       "      <td>88.976200</td>\n",
       "      <td>100.000000</td>\n",
       "      <td>27.740000</td>\n",
       "      <td>1.000000</td>\n",
       "      <td>0.871000</td>\n",
       "      <td>8.780000</td>\n",
       "      <td>100.000000</td>\n",
       "      <td>12.126500</td>\n",
       "      <td>24.000000</td>\n",
       "      <td>711.000000</td>\n",
       "      <td>22.000000</td>\n",
       "      <td>396.900000</td>\n",
       "      <td>37.970000</td>\n",
       "    </tr>\n",
       "  </tbody>\n",
       "</table>\n",
       "</div>"
      ],
      "text/plain": [
       "              LON         LAT  VALOR_MEDIANO  INDICE_CRIMEN          ZN  \\\n",
       "count  506.000000  506.000000     506.000000     506.000000  506.000000   \n",
       "mean   -71.056389   42.216440      22.528854       3.613524   11.363636   \n",
       "std      0.075405    0.061777       9.182176       8.601545   23.322453   \n",
       "min    -71.289500   42.030000       5.000000       0.006320    0.000000   \n",
       "25%    -71.093225   42.180775      17.025000       0.082045    0.000000   \n",
       "50%    -71.052900   42.218100      21.200000       0.256510    0.000000   \n",
       "75%    -71.019625   42.252250      25.000000       3.677083   12.500000   \n",
       "max    -70.810000   42.381000      50.000000      88.976200  100.000000   \n",
       "\n",
       "       PCT_ZONA_INDUSTRIAL  RIO_CHARLES         NOX  N_HABITACIONES_MEDIO  \\\n",
       "count           506.000000   506.000000  506.000000            506.000000   \n",
       "mean             11.136779     0.069170    0.554695              6.284634   \n",
       "std               6.860353     0.253994    0.115878              0.702617   \n",
       "min               0.460000     0.000000    0.385000              3.561000   \n",
       "25%               5.190000     0.000000    0.449000              5.885500   \n",
       "50%               9.690000     0.000000    0.538000              6.208500   \n",
       "75%              18.100000     0.000000    0.624000              6.623500   \n",
       "max              27.740000     1.000000    0.871000              8.780000   \n",
       "\n",
       "             EDAD         DIS         RAD         TAX     PTRATIO           B  \\\n",
       "count  506.000000  506.000000  506.000000  506.000000  506.000000  506.000000   \n",
       "mean    68.574901    3.795043    9.549407  408.237154   18.455534  356.674032   \n",
       "std     28.148861    2.105710    8.707259  168.537116    2.164946   91.294864   \n",
       "min      2.900000    1.129600    1.000000  187.000000   12.600000    0.320000   \n",
       "25%     45.025000    2.100175    4.000000  279.000000   17.400000  375.377500   \n",
       "50%     77.500000    3.207450    5.000000  330.000000   19.050000  391.440000   \n",
       "75%     94.075000    5.188425   24.000000  666.000000   20.200000  396.225000   \n",
       "max    100.000000   12.126500   24.000000  711.000000   22.000000  396.900000   \n",
       "\n",
       "       PCT_CLASE_BAJA  \n",
       "count      506.000000  \n",
       "mean        12.653063  \n",
       "std          7.141062  \n",
       "min          1.730000  \n",
       "25%          6.950000  \n",
       "50%         11.360000  \n",
       "75%         16.955000  \n",
       "max         37.970000  "
      ]
     },
     "execution_count": 35,
     "metadata": {},
     "output_type": "execute_result"
    }
   ],
   "source": [
    "#3. Muestra los datos descriptivos para cada columna (conteo, media, cuartiles)\n",
    "new_df.describe()"
   ]
  },
  {
   "cell_type": "code",
   "execution_count": 36,
   "metadata": {},
   "outputs": [
    {
     "data": {
      "text/plain": [
       "<Axes: >"
      ]
     },
     "execution_count": 36,
     "metadata": {},
     "output_type": "execute_result"
    },
    {
     "data": {
      "image/png": "[encoded data removed]",
      "text/plain": [
       "<Figure size 640x480 with 1 Axes>"
      ]
     },
     "metadata": {},
     "output_type": "display_data"
    }
   ],
   "source": [
    "#4. Genera un histograma de número de habitaciones promedio\n",
    "new_df['N_HABITACIONES_MEDIO'].hist()"
   ]
  },
  {
   "cell_type": "code",
   "execution_count": 38,
   "metadata": {},
   "outputs": [
    {
     "data": {
      "text/plain": [
       "<Axes: xlabel='PCT_ZONA_INDUSTRIAL', ylabel='INDICE_CRIMEN'>"
      ]
     },
     "execution_count": 38,
     "metadata": {},
     "output_type": "execute_result"
    },
    {
     "data": {
      "image/png": "[encoded data removed]",
      "text/plain": [
       "<Figure size 640x480 with 1 Axes>"
      ]
     },
     "metadata": {},
     "output_type": "display_data"
    }
   ],
   "source": [
    "#5. Genera un diagrama de dispersión que muestre el índice de criminalidad vs la zona\n",
    "new_df.plot.scatter(x='PCT_ZONA_INDUSTRIAL', y='INDICE_CRIMEN')"
   ]
  },
  {
   "cell_type": "code",
   "execution_count": 46,
   "metadata": {},
   "outputs": [
    {
     "data": {
      "text/plain": [
       "<Axes: xlabel='CIUDAD'>"
      ]
     },
     "execution_count": 46,
     "metadata": {},
     "output_type": "execute_result"
    },
    {
     "data": {
      "image/png": "[encoded data removed]",
      "text/plain": [
       "<Figure size 640x480 with 1 Axes>"
      ]
     },
     "metadata": {},
     "output_type": "display_data"
    }
   ],
   "source": [
    "#6. Realiza un gráfico de barras que muestre por ciudad el valor mediano de la propiedad\n",
    "new_df.groupby('CIUDAD')['VALOR_MEDIANO'].mean().plot(kind='bar', fontsize=5)\n"
   ]
  },
  {
   "cell_type": "code",
   "execution_count": 47,
   "metadata": {},
   "outputs": [
    {
     "data": {
      "text/plain": [
       "<Axes: >"
      ]
     },
     "execution_count": 47,
     "metadata": {},
     "output_type": "execute_result"
    },
    {
     "data": {
      "image/png": "[encoded data removed]",
      "text/plain": [
       "<Figure size 640x480 with 1 Axes>"
      ]
     },
     "metadata": {},
     "output_type": "display_data"
    }
   ],
   "source": [
    "#7.  Realiza un diagrama de caja para la variable de edad\n",
    "new_df['EDAD'].plot(kind='box')"
   ]
  },
  {
   "cell_type": "markdown",
   "metadata": {},
   "source": [
    "### Ejercicio 4"
   ]
  },
  {
   "cell_type": "code",
   "execution_count": 52,
   "metadata": {},
   "outputs": [],
   "source": [
    "import numpy as np\n",
    "import pandas as pd\n",
    "pd.set_option('display.max.columns', 100)\n",
    "# to draw pictures in jupyter notebook\n",
    "%matplotlib inline \n",
    "import matplotlib.pyplot as plt\n",
    "import seaborn as sns"
   ]
  },
  {
   "cell_type": "code",
   "execution_count": 53,
   "metadata": {},
   "outputs": [],
   "source": [
    "ex4Data = pd.read_csv('C:/Users/anduj/Documents/Tecnologico_de_monterrey/Analisis_de_ciencia_de_datos/Programacion/adult.data.csv')"
   ]
  },
  {
   "cell_type": "code",
   "execution_count": 56,
   "metadata": {},
   "outputs": [
    {
     "name": "stdout",
     "output_type": "stream",
     "text": [
      "sex\n",
      "Male      21790\n",
      "Female    10771\n",
      "Name: count, dtype: int64\n"
     ]
    }
   ],
   "source": [
    "#1 How many man and women (sex feature) are represented in this dataset?\n",
    "#ex4Data.info()\n",
    "sex_counts = ex4Data['sex'].value_counts()\n",
    "print(sex_counts)"
   ]
  },
  {
   "cell_type": "code",
   "execution_count": 57,
   "metadata": {},
   "outputs": [
    {
     "name": "stdout",
     "output_type": "stream",
     "text": [
      "36.85823043357163\n"
     ]
    }
   ],
   "source": [
    "#2. What is the average age (age feature) of women?\n",
    "average_age_women = ex4Data[ex4Data['sex'] == 'Female']['age'].mean() \n",
    "print(average_age_women)"
   ]
  },
  {
   "cell_type": "code",
   "execution_count": 58,
   "metadata": {},
   "outputs": [
    {
     "name": "stdout",
     "output_type": "stream",
     "text": [
      "0.42074874850281013\n"
     ]
    }
   ],
   "source": [
    "# 3. What is the percentage of German citizens (native-country feature)?\n",
    "german_citizens = ex4Data[ex4Data['native-country'] == 'Germany'].shape[0]\n",
    "total = ex4Data.shape[0]\n",
    "percentage = (german_citizens/total)*100\n",
    "print(percentage)"
   ]
  },
  {
   "cell_type": "code",
   "execution_count": 60,
   "metadata": {},
   "outputs": [
    {
     "name": "stdout",
     "output_type": "stream",
     "text": [
      "Mean age of >50K earners: 44.25, Standard Deviation: 10.52\n",
      "Mean age of <=50K earners: 36.78, Standard Deviation: 14.02\n"
     ]
    }
   ],
   "source": [
    "#4-5. What are the mean and standard deviation of age for those who earn more than 50K per year (salary feature) and those who earn less than 50K per year?\n",
    "mean_age_high = ex4Data[ex4Data['salary'] == '>50K']['age'].mean()\n",
    "std_age_high = ex4Data[ex4Data['salary'] == '>50K']['age'].std()\n",
    "mean_age_low = ex4Data[ex4Data['salary'] == '<=50K']['age'].mean()\n",
    "std_age_low = ex4Data[ex4Data['salary'] == '<=50K']['age'].std()\n",
    "print(f\"Mean age of >50K earners: {mean_age_high:.2f}, Standard Deviation: {std_age_high:.2f}\")\n",
    "print(f\"Mean age of <=50K earners: {mean_age_low:.2f}, Standard Deviation: {std_age_low:.2f}\")\n",
    "\n"
   ]
  },
  {
   "cell_type": "code",
   "execution_count": 61,
   "metadata": {},
   "outputs": [
    {
     "name": "stdout",
     "output_type": "stream",
     "text": [
      "false\n"
     ]
    }
   ],
   "source": [
    "#6.Is it true that people who earn more than 50K have at least high school education? (education – Bachelors, Prof-school, Assoc-acdm, Assoc-voc, Masters or Doctorate feature)\n",
    "high_edu_levels = ['Bachelors', 'Prof-school', 'Assoc-acdm', 'Assoc-voc', 'Masters', 'Doctorate']\n",
    "high_earners = ex4Data[ex4Data['salary'] == '>50K']\n",
    "low_edu_high_earners = high_earners[~high_earners['education'].isin(high_edu_levels)]\n",
    "if low_edu_high_earners.empty:\n",
    "    print(\"True\")\n",
    "else:\n",
    "    print(\"false\")\n"
   ]
  },
  {
   "cell_type": "code",
   "execution_count": 64,
   "metadata": {},
   "outputs": [
    {
     "name": "stdout",
     "output_type": "stream",
     "text": [
      "                             count       mean        std   min   25%   50%  \\\n",
      "race               sex                                                       \n",
      "Amer-Indian-Eskimo Female    119.0  37.117647  13.114991  17.0  27.0  36.0   \n",
      "                   Male      192.0  37.208333  12.049563  17.0  28.0  35.0   \n",
      "Asian-Pac-Islander Female    346.0  35.089595  12.300845  17.0  25.0  33.0   \n",
      "                   Male      693.0  39.073593  12.883944  18.0  29.0  37.0   \n",
      "Black              Female   1555.0  37.854019  12.637197  17.0  28.0  37.0   \n",
      "                   Male     1569.0  37.682600  12.882612  17.0  27.0  36.0   \n",
      "Other              Female    109.0  31.678899  11.631599  17.0  23.0  29.0   \n",
      "                   Male      162.0  34.654321  11.355531  17.0  26.0  32.0   \n",
      "White              Female   8642.0  36.811618  14.329093  17.0  25.0  35.0   \n",
      "                   Male    19174.0  39.652498  13.436029  17.0  29.0  38.0   \n",
      "\n",
      "                             75%   max  \n",
      "race               sex                  \n",
      "Amer-Indian-Eskimo Female  46.00  80.0  \n",
      "                   Male    45.00  82.0  \n",
      "Asian-Pac-Islander Female  43.75  75.0  \n",
      "                   Male    46.00  90.0  \n",
      "Black              Female  46.00  90.0  \n",
      "                   Male    46.00  90.0  \n",
      "Other              Female  39.00  74.0  \n",
      "                   Male    42.00  77.0  \n",
      "White              Female  46.00  90.0  \n",
      "                   Male    49.00  90.0  \n",
      "Max age:  82\n"
     ]
    }
   ],
   "source": [
    "#7. Display age statistics for each race (race feature) and each gender (sex feature). Use groupby() and describe(). Find the maximum age of men of Amer-Indian-Eskimo race.\n",
    "age_stats = ex4Data.groupby(['race', 'sex'])['age'].describe()\n",
    "max_age_amerindian_men = ex4Data[(ex4Data['race'] == 'Amer-Indian-Eskimo') & (ex4Data['sex'] == 'Male')]['age'].max()\n",
    "print(age_stats)\n",
    "print(\"Max age: \",max_age_amerindian_men)\n"
   ]
  },
  {
   "cell_type": "code",
   "execution_count": 65,
   "metadata": {},
   "outputs": [
    {
     "name": "stdout",
     "output_type": "stream",
     "text": [
      "Max hours per week: 99 hours\n"
     ]
    }
   ],
   "source": [
    "#8. What is the maximum number of hours a person works per week (hours-per-week feature)? How many people work such a number of hours, and what is the percentage of those who earn a lot (>50K) among them?\n",
    "max_hours = ex4Data['hours-per-week'].max()\n",
    "num_workers = ex4Data[ex4Data['hours-per-week'] == max_hours].shape[0]\n",
    "rich_share = ex4Data[(ex4Data['hours-per-week'] == max_hours) & (ex4Data['salary'] == '>50K')].shape[0] / num_workers\n",
    "print(f\"Max hours per week: {max_hours} hours\")\n"
   ]
  },
  {
   "cell_type": "code",
   "execution_count": 67,
   "metadata": {},
   "outputs": [
    {
     "name": "stdout",
     "output_type": "stream",
     "text": [
      "native-country  salary\n",
      "?               <=50K     40.164760\n",
      "                >50K      45.547945\n",
      "Cambodia        <=50K     41.416667\n",
      "                >50K      40.000000\n",
      "Canada          <=50K     37.914634\n",
      "                            ...    \n",
      "United-States   >50K      45.505369\n",
      "Vietnam         <=50K     37.193548\n",
      "                >50K      39.200000\n",
      "Yugoslavia      <=50K     41.600000\n",
      "                >50K      49.500000\n",
      "Name: hours-per-week, Length: 82, dtype: float64\n",
      "Hours worked in Japan:\n",
      "salary\n",
      "<=50K    41.000000\n",
      ">50K     47.958333\n",
      "Name: hours-per-week, dtype: float64\n"
     ]
    }
   ],
   "source": [
    "#9. Find the average time of work (hours-per-week) for those who earn a little and a lot (salary) for each country (native-country). What will these be for Japan?\n",
    "hours_worked = ex4Data.groupby(['native-country', 'salary'])['hours-per-week'].mean()\n",
    "hours_worked_japan = ex4Data.groupby(['native-country', 'salary'])['hours-per-week'].mean()['Japan']\n",
    "print(hours_worked)\n",
    "print(\"Hours worked in Japan:\")\n",
    "print(hours_worked_japan)"
   ]
  },
  {
   "cell_type": "code",
   "execution_count": 68,
   "metadata": {},
   "outputs": [
    {
     "data": {
      "image/png": "[encoded data removed]",
      "text/plain": [
       "<Figure size 1200x600 with 1 Axes>"
      ]
     },
     "metadata": {},
     "output_type": "display_data"
    }
   ],
   "source": [
    "#10. Create 2 visualizations (what to plot is up to you) and write the conclusions generated with those plots from the dataset\n",
    "plt.figure(figsize=(12, 6))\n",
    "sns.countplot(y='education', hue='salary', data=ex4Data)\n",
    "plt.title('Income vs Education')\n",
    "plt.show()\n"
   ]
  },
  {
   "cell_type": "markdown",
   "metadata": {},
   "source": [
    "Conclusiones: Basado en el gráfico pareciera que mayor educación se asocia con mayores ingresos, las personas con menor educación tienen ingresos menores o iguales a 50k (es claro por las variables, some-college, HS-grad, 11th grad etc). También los titulos profesionales aumentan los ingresos. En general podríamos decir que la educación no garantiza un salario alto pero sí mejora las posibilidades."
   ]
  },
  {
   "cell_type": "markdown",
   "metadata": {},
   "source": [
    "### Ejercicio 5"
   ]
  },
  {
   "cell_type": "markdown",
   "metadata": {},
   "source": [
    "#### Parte 1"
   ]
  },
  {
   "cell_type": "code",
   "execution_count": 73,
   "metadata": {},
   "outputs": [
    {
     "data": {
      "text/html": [
       "<div>\n",
       "<style scoped>\n",
       "    .dataframe tbody tr th:only-of-type {\n",
       "        vertical-align: middle;\n",
       "    }\n",
       "\n",
       "    .dataframe tbody tr th {\n",
       "        vertical-align: top;\n",
       "    }\n",
       "\n",
       "    .dataframe thead th {\n",
       "        text-align: right;\n",
       "    }\n",
       "</style>\n",
       "<table border=\"1\" class=\"dataframe\">\n",
       "  <thead>\n",
       "    <tr style=\"text-align: right;\">\n",
       "      <th></th>\n",
       "      <th>Customer Number</th>\n",
       "      <th>Customer Name</th>\n",
       "      <th>2016</th>\n",
       "      <th>2017</th>\n",
       "      <th>Percent Growth</th>\n",
       "      <th>Jan Units</th>\n",
       "      <th>Month</th>\n",
       "      <th>Day</th>\n",
       "      <th>Year</th>\n",
       "      <th>Active</th>\n",
       "    </tr>\n",
       "  </thead>\n",
       "  <tbody>\n",
       "    <tr>\n",
       "      <th>0</th>\n",
       "      <td>10002.0</td>\n",
       "      <td>Quest Industries</td>\n",
       "      <td>$125,000.00</td>\n",
       "      <td>$162500.00</td>\n",
       "      <td>30.00%</td>\n",
       "      <td>500</td>\n",
       "      <td>1</td>\n",
       "      <td>10</td>\n",
       "      <td>2015</td>\n",
       "      <td>Y</td>\n",
       "    </tr>\n",
       "    <tr>\n",
       "      <th>1</th>\n",
       "      <td>552278.0</td>\n",
       "      <td>Smith Plumbing</td>\n",
       "      <td>$920,000.00</td>\n",
       "      <td>$101,2000.00</td>\n",
       "      <td>10.00%</td>\n",
       "      <td>700</td>\n",
       "      <td>6</td>\n",
       "      <td>15</td>\n",
       "      <td>2014</td>\n",
       "      <td>Y</td>\n",
       "    </tr>\n",
       "    <tr>\n",
       "      <th>2</th>\n",
       "      <td>23477.0</td>\n",
       "      <td>ACME Industrial</td>\n",
       "      <td>$50,000.00</td>\n",
       "      <td>$62500.00</td>\n",
       "      <td>25.00%</td>\n",
       "      <td>125</td>\n",
       "      <td>3</td>\n",
       "      <td>29</td>\n",
       "      <td>2016</td>\n",
       "      <td>Y</td>\n",
       "    </tr>\n",
       "    <tr>\n",
       "      <th>3</th>\n",
       "      <td>24900.0</td>\n",
       "      <td>Brekke LTD</td>\n",
       "      <td>$350,000.00</td>\n",
       "      <td>$490000.00</td>\n",
       "      <td>4.00%</td>\n",
       "      <td>75</td>\n",
       "      <td>10</td>\n",
       "      <td>27</td>\n",
       "      <td>2015</td>\n",
       "      <td>Y</td>\n",
       "    </tr>\n",
       "    <tr>\n",
       "      <th>4</th>\n",
       "      <td>651029.0</td>\n",
       "      <td>Harbor Co</td>\n",
       "      <td>$15,000.00</td>\n",
       "      <td>$12750.00</td>\n",
       "      <td>-15.00%</td>\n",
       "      <td>Closed</td>\n",
       "      <td>2</td>\n",
       "      <td>2</td>\n",
       "      <td>2014</td>\n",
       "      <td>N</td>\n",
       "    </tr>\n",
       "  </tbody>\n",
       "</table>\n",
       "</div>"
      ],
      "text/plain": [
       "   Customer Number     Customer Name         2016          2017  \\\n",
       "0          10002.0  Quest Industries  $125,000.00    $162500.00   \n",
       "1         552278.0    Smith Plumbing  $920,000.00  $101,2000.00   \n",
       "2          23477.0   ACME Industrial   $50,000.00     $62500.00   \n",
       "3          24900.0        Brekke LTD  $350,000.00    $490000.00   \n",
       "4         651029.0         Harbor Co   $15,000.00     $12750.00   \n",
       "\n",
       "  Percent Growth Jan Units  Month  Day  Year Active  \n",
       "0         30.00%       500      1   10  2015      Y  \n",
       "1         10.00%       700      6   15  2014      Y  \n",
       "2         25.00%       125      3   29  2016      Y  \n",
       "3          4.00%        75     10   27  2015      Y  \n",
       "4        -15.00%    Closed      2    2  2014      N  "
      ]
     },
     "execution_count": 73,
     "metadata": {},
     "output_type": "execute_result"
    }
   ],
   "source": [
    "url = 'https://raw.githubusercontent.com/chris1610/pbpython/master/data/sales_data_types.csv'\n",
    "sales = pd.read_csv(url)\n",
    "sales.head()"
   ]
  },
  {
   "cell_type": "code",
   "execution_count": 74,
   "metadata": {},
   "outputs": [
    {
     "name": "stdout",
     "output_type": "stream",
     "text": [
      "Index(['Customer_Number', 'Customer_Name', '2016', '2017', 'Percent_Growth',\n",
      "       'Jan_Units', 'Month', 'Day', 'Year', 'Active'],\n",
      "      dtype='object')\n"
     ]
    }
   ],
   "source": [
    "#4. Column names have spaces, this is not a recommended practice. Therefore, we need to modify column names.\n",
    "sales.columns = sales.columns.str.replace(' ', '_')\n",
    "print(sales.columns)\n"
   ]
  },
  {
   "cell_type": "code",
   "execution_count": 75,
   "metadata": {},
   "outputs": [
    {
     "name": "stdout",
     "output_type": "stream",
     "text": [
      "Customer_Number    float64\n",
      "Customer_Name       object\n",
      "2016                object\n",
      "2017                object\n",
      "Percent_Growth      object\n",
      "Jan_Units           object\n",
      "Month                int64\n",
      "Day                  int64\n",
      "Year                 int64\n",
      "Active              object\n",
      "dtype: object\n"
     ]
    }
   ],
   "source": [
    "#5 Inspect each column data types. Are they correct?\n",
    "print(sales.dtypes)\n",
    "#No son correctos, nombres son números y no están bien definidos algunos "
   ]
  },
  {
   "cell_type": "code",
   "execution_count": 85,
   "metadata": {},
   "outputs": [
    {
     "ename": "ValueError",
     "evalue": "could not convert string to float: '$125000.00'",
     "output_type": "error",
     "traceback": [
      "\u001b[1;31m---------------------------------------------------------------------------\u001b[0m",
      "\u001b[1;31mValueError\u001b[0m                                Traceback (most recent call last)",
      "Cell \u001b[1;32mIn[85], line 9\u001b[0m\n\u001b[0;32m      6\u001b[0m sales[\u001b[38;5;124m'\u001b[39m\u001b[38;5;124mCustomer_Name\u001b[39m\u001b[38;5;124m'\u001b[39m] \u001b[38;5;241m=\u001b[39m sales[\u001b[38;5;124m'\u001b[39m\u001b[38;5;124mCustomer_Name\u001b[39m\u001b[38;5;124m'\u001b[39m]\u001b[38;5;241m.\u001b[39mastype(\u001b[38;5;28mstr\u001b[39m)\n\u001b[0;32m      8\u001b[0m \u001b[38;5;66;03m# Convert 2016 and 2017 columns to float after removing commas\u001b[39;00m\n\u001b[1;32m----> 9\u001b[0m sales[\u001b[38;5;124m'\u001b[39m\u001b[38;5;124m2016\u001b[39m\u001b[38;5;124m'\u001b[39m] \u001b[38;5;241m=\u001b[39m \u001b[43msales\u001b[49m\u001b[43m[\u001b[49m\u001b[38;5;124;43m'\u001b[39;49m\u001b[38;5;124;43m2016\u001b[39;49m\u001b[38;5;124;43m'\u001b[39;49m\u001b[43m]\u001b[49m\u001b[38;5;241;43m.\u001b[39;49m\u001b[43mastype\u001b[49m\u001b[43m(\u001b[49m\u001b[38;5;28;43mstr\u001b[39;49m\u001b[43m)\u001b[49m\u001b[38;5;241;43m.\u001b[39;49m\u001b[43mstr\u001b[49m\u001b[38;5;241;43m.\u001b[39;49m\u001b[43mreplace\u001b[49m\u001b[43m(\u001b[49m\u001b[38;5;124;43m'\u001b[39;49m\u001b[38;5;124;43m,\u001b[39;49m\u001b[38;5;124;43m'\u001b[39;49m\u001b[43m,\u001b[49m\u001b[43m \u001b[49m\u001b[38;5;124;43m'\u001b[39;49m\u001b[38;5;124;43m'\u001b[39;49m\u001b[43m)\u001b[49m\u001b[38;5;241;43m.\u001b[39;49m\u001b[43mastype\u001b[49m\u001b[43m(\u001b[49m\u001b[38;5;28;43mfloat\u001b[39;49m\u001b[43m)\u001b[49m\n\u001b[0;32m     10\u001b[0m sales[\u001b[38;5;124m'\u001b[39m\u001b[38;5;124m2017\u001b[39m\u001b[38;5;124m'\u001b[39m] \u001b[38;5;241m=\u001b[39m sales[\u001b[38;5;124m'\u001b[39m\u001b[38;5;124m2017\u001b[39m\u001b[38;5;124m'\u001b[39m]\u001b[38;5;241m.\u001b[39mastype(\u001b[38;5;28mstr\u001b[39m)\u001b[38;5;241m.\u001b[39mstr\u001b[38;5;241m.\u001b[39mreplace(\u001b[38;5;124m'\u001b[39m\u001b[38;5;124m,\u001b[39m\u001b[38;5;124m'\u001b[39m, \u001b[38;5;124m'\u001b[39m\u001b[38;5;124m'\u001b[39m)\u001b[38;5;241m.\u001b[39mastype(\u001b[38;5;28mfloat\u001b[39m)\n\u001b[0;32m     12\u001b[0m \u001b[38;5;66;03m# Convert Percent_Growth to float after removing '%' symbol\u001b[39;00m\n",
      "File \u001b[1;32m~\\AppData\\Local\\Packages\\PythonSoftwareFoundation.Python.3.11_qbz5n2kfra8p0\\LocalCache\\local-packages\\Python311\\site-packages\\pandas\\core\\generic.py:6643\u001b[0m, in \u001b[0;36mNDFrame.astype\u001b[1;34m(self, dtype, copy, errors)\u001b[0m\n\u001b[0;32m   6637\u001b[0m     results \u001b[38;5;241m=\u001b[39m [\n\u001b[0;32m   6638\u001b[0m         ser\u001b[38;5;241m.\u001b[39mastype(dtype, copy\u001b[38;5;241m=\u001b[39mcopy, errors\u001b[38;5;241m=\u001b[39merrors) \u001b[38;5;28;01mfor\u001b[39;00m _, ser \u001b[38;5;129;01min\u001b[39;00m \u001b[38;5;28mself\u001b[39m\u001b[38;5;241m.\u001b[39mitems()\n\u001b[0;32m   6639\u001b[0m     ]\n\u001b[0;32m   6641\u001b[0m \u001b[38;5;28;01melse\u001b[39;00m:\n\u001b[0;32m   6642\u001b[0m     \u001b[38;5;66;03m# else, only a single dtype is given\u001b[39;00m\n\u001b[1;32m-> 6643\u001b[0m     new_data \u001b[38;5;241m=\u001b[39m \u001b[38;5;28;43mself\u001b[39;49m\u001b[38;5;241;43m.\u001b[39;49m\u001b[43m_mgr\u001b[49m\u001b[38;5;241;43m.\u001b[39;49m\u001b[43mastype\u001b[49m\u001b[43m(\u001b[49m\u001b[43mdtype\u001b[49m\u001b[38;5;241;43m=\u001b[39;49m\u001b[43mdtype\u001b[49m\u001b[43m,\u001b[49m\u001b[43m \u001b[49m\u001b[43mcopy\u001b[49m\u001b[38;5;241;43m=\u001b[39;49m\u001b[43mcopy\u001b[49m\u001b[43m,\u001b[49m\u001b[43m \u001b[49m\u001b[43merrors\u001b[49m\u001b[38;5;241;43m=\u001b[39;49m\u001b[43merrors\u001b[49m\u001b[43m)\u001b[49m\n\u001b[0;32m   6644\u001b[0m     res \u001b[38;5;241m=\u001b[39m \u001b[38;5;28mself\u001b[39m\u001b[38;5;241m.\u001b[39m_constructor_from_mgr(new_data, axes\u001b[38;5;241m=\u001b[39mnew_data\u001b[38;5;241m.\u001b[39maxes)\n\u001b[0;32m   6645\u001b[0m     \u001b[38;5;28;01mreturn\u001b[39;00m res\u001b[38;5;241m.\u001b[39m__finalize__(\u001b[38;5;28mself\u001b[39m, method\u001b[38;5;241m=\u001b[39m\u001b[38;5;124m\"\u001b[39m\u001b[38;5;124mastype\u001b[39m\u001b[38;5;124m\"\u001b[39m)\n",
      "File \u001b[1;32m~\\AppData\\Local\\Packages\\PythonSoftwareFoundation.Python.3.11_qbz5n2kfra8p0\\LocalCache\\local-packages\\Python311\\site-packages\\pandas\\core\\internals\\managers.py:430\u001b[0m, in \u001b[0;36mBaseBlockManager.astype\u001b[1;34m(self, dtype, copy, errors)\u001b[0m\n\u001b[0;32m    427\u001b[0m \u001b[38;5;28;01melif\u001b[39;00m using_copy_on_write():\n\u001b[0;32m    428\u001b[0m     copy \u001b[38;5;241m=\u001b[39m \u001b[38;5;28;01mFalse\u001b[39;00m\n\u001b[1;32m--> 430\u001b[0m \u001b[38;5;28;01mreturn\u001b[39;00m \u001b[38;5;28;43mself\u001b[39;49m\u001b[38;5;241;43m.\u001b[39;49m\u001b[43mapply\u001b[49m\u001b[43m(\u001b[49m\n\u001b[0;32m    431\u001b[0m \u001b[43m    \u001b[49m\u001b[38;5;124;43m\"\u001b[39;49m\u001b[38;5;124;43mastype\u001b[39;49m\u001b[38;5;124;43m\"\u001b[39;49m\u001b[43m,\u001b[49m\n\u001b[0;32m    432\u001b[0m \u001b[43m    \u001b[49m\u001b[43mdtype\u001b[49m\u001b[38;5;241;43m=\u001b[39;49m\u001b[43mdtype\u001b[49m\u001b[43m,\u001b[49m\n\u001b[0;32m    433\u001b[0m \u001b[43m    \u001b[49m\u001b[43mcopy\u001b[49m\u001b[38;5;241;43m=\u001b[39;49m\u001b[43mcopy\u001b[49m\u001b[43m,\u001b[49m\n\u001b[0;32m    434\u001b[0m \u001b[43m    \u001b[49m\u001b[43merrors\u001b[49m\u001b[38;5;241;43m=\u001b[39;49m\u001b[43merrors\u001b[49m\u001b[43m,\u001b[49m\n\u001b[0;32m    435\u001b[0m \u001b[43m    \u001b[49m\u001b[43musing_cow\u001b[49m\u001b[38;5;241;43m=\u001b[39;49m\u001b[43musing_copy_on_write\u001b[49m\u001b[43m(\u001b[49m\u001b[43m)\u001b[49m\u001b[43m,\u001b[49m\n\u001b[0;32m    436\u001b[0m \u001b[43m\u001b[49m\u001b[43m)\u001b[49m\n",
      "File \u001b[1;32m~\\AppData\\Local\\Packages\\PythonSoftwareFoundation.Python.3.11_qbz5n2kfra8p0\\LocalCache\\local-packages\\Python311\\site-packages\\pandas\\core\\internals\\managers.py:363\u001b[0m, in \u001b[0;36mBaseBlockManager.apply\u001b[1;34m(self, f, align_keys, **kwargs)\u001b[0m\n\u001b[0;32m    361\u001b[0m         applied \u001b[38;5;241m=\u001b[39m b\u001b[38;5;241m.\u001b[39mapply(f, \u001b[38;5;241m*\u001b[39m\u001b[38;5;241m*\u001b[39mkwargs)\n\u001b[0;32m    362\u001b[0m     \u001b[38;5;28;01melse\u001b[39;00m:\n\u001b[1;32m--> 363\u001b[0m         applied \u001b[38;5;241m=\u001b[39m \u001b[38;5;28;43mgetattr\u001b[39;49m\u001b[43m(\u001b[49m\u001b[43mb\u001b[49m\u001b[43m,\u001b[49m\u001b[43m \u001b[49m\u001b[43mf\u001b[49m\u001b[43m)\u001b[49m\u001b[43m(\u001b[49m\u001b[38;5;241;43m*\u001b[39;49m\u001b[38;5;241;43m*\u001b[39;49m\u001b[43mkwargs\u001b[49m\u001b[43m)\u001b[49m\n\u001b[0;32m    364\u001b[0m     result_blocks \u001b[38;5;241m=\u001b[39m extend_blocks(applied, result_blocks)\n\u001b[0;32m    366\u001b[0m out \u001b[38;5;241m=\u001b[39m \u001b[38;5;28mtype\u001b[39m(\u001b[38;5;28mself\u001b[39m)\u001b[38;5;241m.\u001b[39mfrom_blocks(result_blocks, \u001b[38;5;28mself\u001b[39m\u001b[38;5;241m.\u001b[39maxes)\n",
      "File \u001b[1;32m~\\AppData\\Local\\Packages\\PythonSoftwareFoundation.Python.3.11_qbz5n2kfra8p0\\LocalCache\\local-packages\\Python311\\site-packages\\pandas\\core\\internals\\blocks.py:758\u001b[0m, in \u001b[0;36mBlock.astype\u001b[1;34m(self, dtype, copy, errors, using_cow, squeeze)\u001b[0m\n\u001b[0;32m    755\u001b[0m         \u001b[38;5;28;01mraise\u001b[39;00m \u001b[38;5;167;01mValueError\u001b[39;00m(\u001b[38;5;124m\"\u001b[39m\u001b[38;5;124mCan not squeeze with more than one column.\u001b[39m\u001b[38;5;124m\"\u001b[39m)\n\u001b[0;32m    756\u001b[0m     values \u001b[38;5;241m=\u001b[39m values[\u001b[38;5;241m0\u001b[39m, :]  \u001b[38;5;66;03m# type: ignore[call-overload]\u001b[39;00m\n\u001b[1;32m--> 758\u001b[0m new_values \u001b[38;5;241m=\u001b[39m \u001b[43mastype_array_safe\u001b[49m\u001b[43m(\u001b[49m\u001b[43mvalues\u001b[49m\u001b[43m,\u001b[49m\u001b[43m \u001b[49m\u001b[43mdtype\u001b[49m\u001b[43m,\u001b[49m\u001b[43m \u001b[49m\u001b[43mcopy\u001b[49m\u001b[38;5;241;43m=\u001b[39;49m\u001b[43mcopy\u001b[49m\u001b[43m,\u001b[49m\u001b[43m \u001b[49m\u001b[43merrors\u001b[49m\u001b[38;5;241;43m=\u001b[39;49m\u001b[43merrors\u001b[49m\u001b[43m)\u001b[49m\n\u001b[0;32m    760\u001b[0m new_values \u001b[38;5;241m=\u001b[39m maybe_coerce_values(new_values)\n\u001b[0;32m    762\u001b[0m refs \u001b[38;5;241m=\u001b[39m \u001b[38;5;28;01mNone\u001b[39;00m\n",
      "File \u001b[1;32m~\\AppData\\Local\\Packages\\PythonSoftwareFoundation.Python.3.11_qbz5n2kfra8p0\\LocalCache\\local-packages\\Python311\\site-packages\\pandas\\core\\dtypes\\astype.py:237\u001b[0m, in \u001b[0;36mastype_array_safe\u001b[1;34m(values, dtype, copy, errors)\u001b[0m\n\u001b[0;32m    234\u001b[0m     dtype \u001b[38;5;241m=\u001b[39m dtype\u001b[38;5;241m.\u001b[39mnumpy_dtype\n\u001b[0;32m    236\u001b[0m \u001b[38;5;28;01mtry\u001b[39;00m:\n\u001b[1;32m--> 237\u001b[0m     new_values \u001b[38;5;241m=\u001b[39m \u001b[43mastype_array\u001b[49m\u001b[43m(\u001b[49m\u001b[43mvalues\u001b[49m\u001b[43m,\u001b[49m\u001b[43m \u001b[49m\u001b[43mdtype\u001b[49m\u001b[43m,\u001b[49m\u001b[43m \u001b[49m\u001b[43mcopy\u001b[49m\u001b[38;5;241;43m=\u001b[39;49m\u001b[43mcopy\u001b[49m\u001b[43m)\u001b[49m\n\u001b[0;32m    238\u001b[0m \u001b[38;5;28;01mexcept\u001b[39;00m (\u001b[38;5;167;01mValueError\u001b[39;00m, \u001b[38;5;167;01mTypeError\u001b[39;00m):\n\u001b[0;32m    239\u001b[0m     \u001b[38;5;66;03m# e.g. _astype_nansafe can fail on object-dtype of strings\u001b[39;00m\n\u001b[0;32m    240\u001b[0m     \u001b[38;5;66;03m#  trying to convert to float\u001b[39;00m\n\u001b[0;32m    241\u001b[0m     \u001b[38;5;28;01mif\u001b[39;00m errors \u001b[38;5;241m==\u001b[39m \u001b[38;5;124m\"\u001b[39m\u001b[38;5;124mignore\u001b[39m\u001b[38;5;124m\"\u001b[39m:\n",
      "File \u001b[1;32m~\\AppData\\Local\\Packages\\PythonSoftwareFoundation.Python.3.11_qbz5n2kfra8p0\\LocalCache\\local-packages\\Python311\\site-packages\\pandas\\core\\dtypes\\astype.py:182\u001b[0m, in \u001b[0;36mastype_array\u001b[1;34m(values, dtype, copy)\u001b[0m\n\u001b[0;32m    179\u001b[0m     values \u001b[38;5;241m=\u001b[39m values\u001b[38;5;241m.\u001b[39mastype(dtype, copy\u001b[38;5;241m=\u001b[39mcopy)\n\u001b[0;32m    181\u001b[0m \u001b[38;5;28;01melse\u001b[39;00m:\n\u001b[1;32m--> 182\u001b[0m     values \u001b[38;5;241m=\u001b[39m \u001b[43m_astype_nansafe\u001b[49m\u001b[43m(\u001b[49m\u001b[43mvalues\u001b[49m\u001b[43m,\u001b[49m\u001b[43m \u001b[49m\u001b[43mdtype\u001b[49m\u001b[43m,\u001b[49m\u001b[43m \u001b[49m\u001b[43mcopy\u001b[49m\u001b[38;5;241;43m=\u001b[39;49m\u001b[43mcopy\u001b[49m\u001b[43m)\u001b[49m\n\u001b[0;32m    184\u001b[0m \u001b[38;5;66;03m# in pandas we don't store numpy str dtypes, so convert to object\u001b[39;00m\n\u001b[0;32m    185\u001b[0m \u001b[38;5;28;01mif\u001b[39;00m \u001b[38;5;28misinstance\u001b[39m(dtype, np\u001b[38;5;241m.\u001b[39mdtype) \u001b[38;5;129;01mand\u001b[39;00m \u001b[38;5;28missubclass\u001b[39m(values\u001b[38;5;241m.\u001b[39mdtype\u001b[38;5;241m.\u001b[39mtype, \u001b[38;5;28mstr\u001b[39m):\n",
      "File \u001b[1;32m~\\AppData\\Local\\Packages\\PythonSoftwareFoundation.Python.3.11_qbz5n2kfra8p0\\LocalCache\\local-packages\\Python311\\site-packages\\pandas\\core\\dtypes\\astype.py:133\u001b[0m, in \u001b[0;36m_astype_nansafe\u001b[1;34m(arr, dtype, copy, skipna)\u001b[0m\n\u001b[0;32m    129\u001b[0m     \u001b[38;5;28;01mraise\u001b[39;00m \u001b[38;5;167;01mValueError\u001b[39;00m(msg)\n\u001b[0;32m    131\u001b[0m \u001b[38;5;28;01mif\u001b[39;00m copy \u001b[38;5;129;01mor\u001b[39;00m arr\u001b[38;5;241m.\u001b[39mdtype \u001b[38;5;241m==\u001b[39m \u001b[38;5;28mobject\u001b[39m \u001b[38;5;129;01mor\u001b[39;00m dtype \u001b[38;5;241m==\u001b[39m \u001b[38;5;28mobject\u001b[39m:\n\u001b[0;32m    132\u001b[0m     \u001b[38;5;66;03m# Explicit copy, or required since NumPy can't view from / to object.\u001b[39;00m\n\u001b[1;32m--> 133\u001b[0m     \u001b[38;5;28;01mreturn\u001b[39;00m \u001b[43marr\u001b[49m\u001b[38;5;241;43m.\u001b[39;49m\u001b[43mastype\u001b[49m\u001b[43m(\u001b[49m\u001b[43mdtype\u001b[49m\u001b[43m,\u001b[49m\u001b[43m \u001b[49m\u001b[43mcopy\u001b[49m\u001b[38;5;241;43m=\u001b[39;49m\u001b[38;5;28;43;01mTrue\u001b[39;49;00m\u001b[43m)\u001b[49m\n\u001b[0;32m    135\u001b[0m \u001b[38;5;28;01mreturn\u001b[39;00m arr\u001b[38;5;241m.\u001b[39mastype(dtype, copy\u001b[38;5;241m=\u001b[39mcopy)\n",
      "\u001b[1;31mValueError\u001b[0m: could not convert string to float: '$125000.00'"
     ]
    }
   ],
   "source": [
    "#6. What happens if you try to obtaining the total sales from 2016 and 2017? How can we fix this problem?\n",
    "sales['2016'] = sales['2016'].str.replace(',', '').astype(float)\n",
    "sales['2017'] = sales['2017'].str.replace(',', '').astype(float)\n",
    "total_2016 = sales['2016'].sum()\n",
    "total_2017 = sales['2017'].sum()\n",
    "print(total_2016)\n",
    "print(total_2017)\n",
    "\n",
    "#str to float no permiti"
   ]
  },
  {
   "cell_type": "code",
   "execution_count": 87,
   "metadata": {},
   "outputs": [
    {
     "name": "stdout",
     "output_type": "stream",
     "text": [
      "Customer_Number      Int64\n",
      "Customer_Name       object\n",
      "2016               float64\n",
      "2017               float64\n",
      "Percent_Growth     float64\n",
      "Jan_Units          float64\n",
      "Month                int64\n",
      "Day                  int64\n",
      "Year                 int64\n",
      "Active              object\n",
      "dtype: object\n"
     ]
    }
   ],
   "source": [
    "#7 Transform the following columns to the specified data types:\n",
    "\"\"\"\n",
    "Customer_number - int64\n",
    "customer_name - string\n",
    "2016,2017 - float64\n",
    "percent_growth - float64\n",
    "Jan_units - float64\n",
    "active - bool\n",
    "\n",
    "\"\"\"\n",
    "sales['Customer_Number'] = pd.to_numeric(sales['Customer_Number'], errors='coerce').astype('Int64')\n",
    "sales['Customer_Name'] = sales['Customer_Name'].astype(str)\n",
    "sales['2016'] = sales['2016'].astype(str).str.replace('[\\$,]', '', regex=True).astype(float)\n",
    "sales['2017'] = sales['2017'].astype(str).str.replace('[\\$,]', '', regex=True).astype(float)\n",
    "sales['Percent_Growth'] = sales['Percent_Growth'].astype(str).str.replace('%', '', regex=True).astype(float)\n",
    "sales['Jan_Units'] = pd.to_numeric(sales['Jan_Units'], errors='coerce')\n",
    "sales['Active'] = sales['Active'].astype(str).str.lower().map({'true': True, 'false': False})\n",
    "print(sales.dtypes)"
   ]
  },
  {
   "cell_type": "code",
   "execution_count": 88,
   "metadata": {},
   "outputs": [
    {
     "name": "stdout",
     "output_type": "stream",
     "text": [
      "0   2015-01-10\n",
      "1   2014-06-15\n",
      "2   2016-03-29\n",
      "3   2015-10-27\n",
      "4   2014-02-02\n",
      "Name: Start_Date, dtype: datetime64[ns]\n"
     ]
    }
   ],
   "source": [
    "#8. Add a column \"Start_date\" to the data frame. This column takes the columns Month, Day, Year and generates an array of type \"datetime64\"\n",
    "sales['Start_Date'] = pd.to_datetime(sales[['Month', 'Day', 'Year']])\n",
    "print(sales['Start_Date'])"
   ]
  },
  {
   "cell_type": "code",
   "execution_count": 89,
   "metadata": {},
   "outputs": [
    {
     "name": "stdout",
     "output_type": "stream",
     "text": [
      "   Customer_Number     Customer_Name      2016       2017  Percent_Growth  \\\n",
      "0            10002  Quest Industries  125000.0   162500.0            30.0   \n",
      "1           552278    Smith Plumbing  920000.0  1012000.0            10.0   \n",
      "2            23477   ACME Industrial   50000.0    62500.0            25.0   \n",
      "\n",
      "   Jan_Units  Month  Day  Year Active Start_Date  \n",
      "0      500.0      1   10  2015    NaN 2015-01-10  \n",
      "1      700.0      6   15  2014    NaN 2014-06-15  \n",
      "2      125.0      3   29  2016    NaN 2016-03-29  \n",
      "   Customer_Number    Customer_Name\n",
      "1           552278   Smith Plumbing\n",
      "2            23477  ACME Industrial\n"
     ]
    }
   ],
   "source": [
    "#9. Display the first 3 rows and all columns. Display the first 2 columns and rows with indexes 1 and 2.\n",
    "print(sales.iloc[:3])\n",
    "print(sales.iloc[1:3, :2])"
   ]
  },
  {
   "cell_type": "code",
   "execution_count": 90,
   "metadata": {},
   "outputs": [
    {
     "data": {
      "text/html": [
       "<div>\n",
       "<style scoped>\n",
       "    .dataframe tbody tr th:only-of-type {\n",
       "        vertical-align: middle;\n",
       "    }\n",
       "\n",
       "    .dataframe tbody tr th {\n",
       "        vertical-align: top;\n",
       "    }\n",
       "\n",
       "    .dataframe thead th {\n",
       "        text-align: right;\n",
       "    }\n",
       "</style>\n",
       "<table border=\"1\" class=\"dataframe\">\n",
       "  <thead>\n",
       "    <tr style=\"text-align: right;\">\n",
       "      <th></th>\n",
       "      <th>Customer_Number</th>\n",
       "      <th>Customer_Name</th>\n",
       "      <th>2016</th>\n",
       "      <th>2017</th>\n",
       "      <th>Percent_Growth</th>\n",
       "      <th>Jan_Units</th>\n",
       "      <th>Month</th>\n",
       "      <th>Day</th>\n",
       "      <th>Year</th>\n",
       "      <th>Active</th>\n",
       "      <th>Start_Date</th>\n",
       "    </tr>\n",
       "  </thead>\n",
       "  <tbody>\n",
       "    <tr>\n",
       "      <th>4</th>\n",
       "      <td>651029</td>\n",
       "      <td>Harbor Co</td>\n",
       "      <td>15000.0</td>\n",
       "      <td>12750.0</td>\n",
       "      <td>-15.0</td>\n",
       "      <td>NaN</td>\n",
       "      <td>2</td>\n",
       "      <td>2</td>\n",
       "      <td>2014</td>\n",
       "      <td>NaN</td>\n",
       "      <td>2014-02-02</td>\n",
       "    </tr>\n",
       "    <tr>\n",
       "      <th>2</th>\n",
       "      <td>23477</td>\n",
       "      <td>ACME Industrial</td>\n",
       "      <td>50000.0</td>\n",
       "      <td>62500.0</td>\n",
       "      <td>25.0</td>\n",
       "      <td>125.0</td>\n",
       "      <td>3</td>\n",
       "      <td>29</td>\n",
       "      <td>2016</td>\n",
       "      <td>NaN</td>\n",
       "      <td>2016-03-29</td>\n",
       "    </tr>\n",
       "    <tr>\n",
       "      <th>0</th>\n",
       "      <td>10002</td>\n",
       "      <td>Quest Industries</td>\n",
       "      <td>125000.0</td>\n",
       "      <td>162500.0</td>\n",
       "      <td>30.0</td>\n",
       "      <td>500.0</td>\n",
       "      <td>1</td>\n",
       "      <td>10</td>\n",
       "      <td>2015</td>\n",
       "      <td>NaN</td>\n",
       "      <td>2015-01-10</td>\n",
       "    </tr>\n",
       "    <tr>\n",
       "      <th>3</th>\n",
       "      <td>24900</td>\n",
       "      <td>Brekke LTD</td>\n",
       "      <td>350000.0</td>\n",
       "      <td>490000.0</td>\n",
       "      <td>4.0</td>\n",
       "      <td>75.0</td>\n",
       "      <td>10</td>\n",
       "      <td>27</td>\n",
       "      <td>2015</td>\n",
       "      <td>NaN</td>\n",
       "      <td>2015-10-27</td>\n",
       "    </tr>\n",
       "    <tr>\n",
       "      <th>1</th>\n",
       "      <td>552278</td>\n",
       "      <td>Smith Plumbing</td>\n",
       "      <td>920000.0</td>\n",
       "      <td>1012000.0</td>\n",
       "      <td>10.0</td>\n",
       "      <td>700.0</td>\n",
       "      <td>6</td>\n",
       "      <td>15</td>\n",
       "      <td>2014</td>\n",
       "      <td>NaN</td>\n",
       "      <td>2014-06-15</td>\n",
       "    </tr>\n",
       "  </tbody>\n",
       "</table>\n",
       "</div>"
      ],
      "text/plain": [
       "   Customer_Number     Customer_Name      2016       2017  Percent_Growth  \\\n",
       "4           651029         Harbor Co   15000.0    12750.0           -15.0   \n",
       "2            23477   ACME Industrial   50000.0    62500.0            25.0   \n",
       "0            10002  Quest Industries  125000.0   162500.0            30.0   \n",
       "3            24900        Brekke LTD  350000.0   490000.0             4.0   \n",
       "1           552278    Smith Plumbing  920000.0  1012000.0            10.0   \n",
       "\n",
       "   Jan_Units  Month  Day  Year Active Start_Date  \n",
       "4        NaN      2    2  2014    NaN 2014-02-02  \n",
       "2      125.0      3   29  2016    NaN 2016-03-29  \n",
       "0      500.0      1   10  2015    NaN 2015-01-10  \n",
       "3       75.0     10   27  2015    NaN 2015-10-27  \n",
       "1      700.0      6   15  2014    NaN 2014-06-15  "
      ]
     },
     "execution_count": 90,
     "metadata": {},
     "output_type": "execute_result"
    }
   ],
   "source": [
    "#10 Display the data frame ordered increasingly by 2016 values\n",
    "sales.sort_values('2016')\n"
   ]
  },
  {
   "cell_type": "code",
   "execution_count": null,
   "metadata": {},
   "outputs": [],
   "source": [
    "#11. Calculate the mean value of 2016\n",
    "mean_2016 = sales['2016'].mean()\n",
    "print(mean_2016)"
   ]
  },
  {
   "cell_type": "code",
   "execution_count": 91,
   "metadata": {},
   "outputs": [
    {
     "data": {
      "text/html": [
       "<div>\n",
       "<style scoped>\n",
       "    .dataframe tbody tr th:only-of-type {\n",
       "        vertical-align: middle;\n",
       "    }\n",
       "\n",
       "    .dataframe tbody tr th {\n",
       "        vertical-align: top;\n",
       "    }\n",
       "\n",
       "    .dataframe thead th {\n",
       "        text-align: right;\n",
       "    }\n",
       "</style>\n",
       "<table border=\"1\" class=\"dataframe\">\n",
       "  <thead>\n",
       "    <tr style=\"text-align: right;\">\n",
       "      <th></th>\n",
       "      <th>Customer_Number</th>\n",
       "      <th>2016</th>\n",
       "      <th>2017</th>\n",
       "      <th>Percent_Growth</th>\n",
       "      <th>Jan_Units</th>\n",
       "      <th>Month</th>\n",
       "      <th>Day</th>\n",
       "      <th>Year</th>\n",
       "      <th>Start_Date</th>\n",
       "    </tr>\n",
       "  </thead>\n",
       "  <tbody>\n",
       "    <tr>\n",
       "      <th>count</th>\n",
       "      <td>5.0</td>\n",
       "      <td>5.000000</td>\n",
       "      <td>5.000000e+00</td>\n",
       "      <td>5.000000</td>\n",
       "      <td>4.000000</td>\n",
       "      <td>5.000000</td>\n",
       "      <td>5.000000</td>\n",
       "      <td>5.00000</td>\n",
       "      <td>5</td>\n",
       "    </tr>\n",
       "    <tr>\n",
       "      <th>mean</th>\n",
       "      <td>252337.2</td>\n",
       "      <td>292000.000000</td>\n",
       "      <td>3.479500e+05</td>\n",
       "      <td>10.800000</td>\n",
       "      <td>350.000000</td>\n",
       "      <td>4.400000</td>\n",
       "      <td>16.600000</td>\n",
       "      <td>2014.80000</td>\n",
       "      <td>2015-02-15 14:24:00</td>\n",
       "    </tr>\n",
       "    <tr>\n",
       "      <th>min</th>\n",
       "      <td>10002.0</td>\n",
       "      <td>15000.000000</td>\n",
       "      <td>1.275000e+04</td>\n",
       "      <td>-15.000000</td>\n",
       "      <td>75.000000</td>\n",
       "      <td>1.000000</td>\n",
       "      <td>2.000000</td>\n",
       "      <td>2014.00000</td>\n",
       "      <td>2014-02-02 00:00:00</td>\n",
       "    </tr>\n",
       "    <tr>\n",
       "      <th>25%</th>\n",
       "      <td>23477.0</td>\n",
       "      <td>50000.000000</td>\n",
       "      <td>6.250000e+04</td>\n",
       "      <td>4.000000</td>\n",
       "      <td>112.500000</td>\n",
       "      <td>2.000000</td>\n",
       "      <td>10.000000</td>\n",
       "      <td>2014.00000</td>\n",
       "      <td>2014-06-15 00:00:00</td>\n",
       "    </tr>\n",
       "    <tr>\n",
       "      <th>50%</th>\n",
       "      <td>24900.0</td>\n",
       "      <td>125000.000000</td>\n",
       "      <td>1.625000e+05</td>\n",
       "      <td>10.000000</td>\n",
       "      <td>312.500000</td>\n",
       "      <td>3.000000</td>\n",
       "      <td>15.000000</td>\n",
       "      <td>2015.00000</td>\n",
       "      <td>2015-01-10 00:00:00</td>\n",
       "    </tr>\n",
       "    <tr>\n",
       "      <th>75%</th>\n",
       "      <td>552278.0</td>\n",
       "      <td>350000.000000</td>\n",
       "      <td>4.900000e+05</td>\n",
       "      <td>25.000000</td>\n",
       "      <td>550.000000</td>\n",
       "      <td>6.000000</td>\n",
       "      <td>27.000000</td>\n",
       "      <td>2015.00000</td>\n",
       "      <td>2015-10-27 00:00:00</td>\n",
       "    </tr>\n",
       "    <tr>\n",
       "      <th>max</th>\n",
       "      <td>651029.0</td>\n",
       "      <td>920000.000000</td>\n",
       "      <td>1.012000e+06</td>\n",
       "      <td>30.000000</td>\n",
       "      <td>700.000000</td>\n",
       "      <td>10.000000</td>\n",
       "      <td>29.000000</td>\n",
       "      <td>2016.00000</td>\n",
       "      <td>2016-03-29 00:00:00</td>\n",
       "    </tr>\n",
       "    <tr>\n",
       "      <th>std</th>\n",
       "      <td>320838.999788</td>\n",
       "      <td>374476.300986</td>\n",
       "      <td>4.151425e+05</td>\n",
       "      <td>17.908099</td>\n",
       "      <td>300.693643</td>\n",
       "      <td>3.646917</td>\n",
       "      <td>11.414903</td>\n",
       "      <td>0.83666</td>\n",
       "      <td>NaN</td>\n",
       "    </tr>\n",
       "  </tbody>\n",
       "</table>\n",
       "</div>"
      ],
      "text/plain": [
       "       Customer_Number           2016          2017  Percent_Growth  \\\n",
       "count              5.0       5.000000  5.000000e+00        5.000000   \n",
       "mean          252337.2  292000.000000  3.479500e+05       10.800000   \n",
       "min            10002.0   15000.000000  1.275000e+04      -15.000000   \n",
       "25%            23477.0   50000.000000  6.250000e+04        4.000000   \n",
       "50%            24900.0  125000.000000  1.625000e+05       10.000000   \n",
       "75%           552278.0  350000.000000  4.900000e+05       25.000000   \n",
       "max           651029.0  920000.000000  1.012000e+06       30.000000   \n",
       "std      320838.999788  374476.300986  4.151425e+05       17.908099   \n",
       "\n",
       "        Jan_Units      Month        Day        Year           Start_Date  \n",
       "count    4.000000   5.000000   5.000000     5.00000                    5  \n",
       "mean   350.000000   4.400000  16.600000  2014.80000  2015-02-15 14:24:00  \n",
       "min     75.000000   1.000000   2.000000  2014.00000  2014-02-02 00:00:00  \n",
       "25%    112.500000   2.000000  10.000000  2014.00000  2014-06-15 00:00:00  \n",
       "50%    312.500000   3.000000  15.000000  2015.00000  2015-01-10 00:00:00  \n",
       "75%    550.000000   6.000000  27.000000  2015.00000  2015-10-27 00:00:00  \n",
       "max    700.000000  10.000000  29.000000  2016.00000  2016-03-29 00:00:00  \n",
       "std    300.693643   3.646917  11.414903     0.83666                  NaN  "
      ]
     },
     "execution_count": 91,
     "metadata": {},
     "output_type": "execute_result"
    }
   ],
   "source": [
    "#12. Use the dataframe.describe function \n",
    "sales.describe()"
   ]
  },
  {
   "cell_type": "markdown",
   "metadata": {},
   "source": [
    "#### Parte 2"
   ]
  },
  {
   "cell_type": "code",
   "execution_count": 92,
   "metadata": {},
   "outputs": [
    {
     "data": {
      "text/html": [
       "<div>\n",
       "<style scoped>\n",
       "    .dataframe tbody tr th:only-of-type {\n",
       "        vertical-align: middle;\n",
       "    }\n",
       "\n",
       "    .dataframe tbody tr th {\n",
       "        vertical-align: top;\n",
       "    }\n",
       "\n",
       "    .dataframe thead th {\n",
       "        text-align: right;\n",
       "    }\n",
       "</style>\n",
       "<table border=\"1\" class=\"dataframe\">\n",
       "  <thead>\n",
       "    <tr style=\"text-align: right;\">\n",
       "      <th></th>\n",
       "      <th>sepal.length</th>\n",
       "      <th>sepal.width</th>\n",
       "      <th>petal.length</th>\n",
       "      <th>petal.width</th>\n",
       "      <th>variety</th>\n",
       "    </tr>\n",
       "  </thead>\n",
       "  <tbody>\n",
       "    <tr>\n",
       "      <th>0</th>\n",
       "      <td>5.1</td>\n",
       "      <td>3.5</td>\n",
       "      <td>1.4</td>\n",
       "      <td>0.2</td>\n",
       "      <td>Setosa</td>\n",
       "    </tr>\n",
       "    <tr>\n",
       "      <th>1</th>\n",
       "      <td>4.9</td>\n",
       "      <td>3.0</td>\n",
       "      <td>1.4</td>\n",
       "      <td>0.2</td>\n",
       "      <td>Setosa</td>\n",
       "    </tr>\n",
       "    <tr>\n",
       "      <th>2</th>\n",
       "      <td>4.7</td>\n",
       "      <td>3.2</td>\n",
       "      <td>1.3</td>\n",
       "      <td>0.2</td>\n",
       "      <td>Setosa</td>\n",
       "    </tr>\n",
       "    <tr>\n",
       "      <th>3</th>\n",
       "      <td>4.6</td>\n",
       "      <td>3.1</td>\n",
       "      <td>1.5</td>\n",
       "      <td>0.2</td>\n",
       "      <td>Setosa</td>\n",
       "    </tr>\n",
       "    <tr>\n",
       "      <th>4</th>\n",
       "      <td>5.0</td>\n",
       "      <td>3.6</td>\n",
       "      <td>1.4</td>\n",
       "      <td>0.2</td>\n",
       "      <td>Setosa</td>\n",
       "    </tr>\n",
       "  </tbody>\n",
       "</table>\n",
       "</div>"
      ],
      "text/plain": [
       "   sepal.length  sepal.width  petal.length  petal.width variety\n",
       "0           5.1          3.5           1.4          0.2  Setosa\n",
       "1           4.9          3.0           1.4          0.2  Setosa\n",
       "2           4.7          3.2           1.3          0.2  Setosa\n",
       "3           4.6          3.1           1.5          0.2  Setosa\n",
       "4           5.0          3.6           1.4          0.2  Setosa"
      ]
     },
     "execution_count": 92,
     "metadata": {},
     "output_type": "execute_result"
    }
   ],
   "source": [
    "url2 = 'https://gist.githubusercontent.com/netj/8836201/raw/6f9306ad21398ea43cba4f7d537619d0e07d5ae3/iris.csv'\n",
    "iris = pd.read_csv(url2)\n",
    "iris.head()"
   ]
  },
  {
   "cell_type": "code",
   "execution_count": 100,
   "metadata": {},
   "outputs": [],
   "source": [
    "# 2. Verify the data types \n",
    "iris.dtypes\n",
    "#set species to string\n",
    "iris['species'] = iris['species'].astype(str)\n"
   ]
  },
  {
   "cell_type": "code",
   "execution_count": 101,
   "metadata": {},
   "outputs": [
    {
     "data": {
      "text/plain": [
       "<Axes: >"
      ]
     },
     "execution_count": 101,
     "metadata": {},
     "output_type": "execute_result"
    },
    {
     "data": {
      "image/png": "[encoded data removed]",
      "text/plain": [
       "<Figure size 640x480 with 1 Axes>"
      ]
     },
     "metadata": {},
     "output_type": "display_data"
    }
   ],
   "source": [
    "#3. Generate a boxplot for each numerical column. Use the seaborn.boxplot function\n",
    "sns.boxplot(data=iris, orient='h')\n"
   ]
  },
  {
   "cell_type": "code",
   "execution_count": 104,
   "metadata": {},
   "outputs": [
    {
     "data": {
      "text/html": [
       "<div>\n",
       "<style scoped>\n",
       "    .dataframe tbody tr th:only-of-type {\n",
       "        vertical-align: middle;\n",
       "    }\n",
       "\n",
       "    .dataframe tbody tr th {\n",
       "        vertical-align: top;\n",
       "    }\n",
       "\n",
       "    .dataframe thead th {\n",
       "        text-align: right;\n",
       "    }\n",
       "</style>\n",
       "<table border=\"1\" class=\"dataframe\">\n",
       "  <thead>\n",
       "    <tr style=\"text-align: right;\">\n",
       "      <th></th>\n",
       "      <th>count</th>\n",
       "      <th>mean</th>\n",
       "      <th>std</th>\n",
       "      <th>min</th>\n",
       "      <th>25%</th>\n",
       "      <th>50%</th>\n",
       "      <th>75%</th>\n",
       "      <th>max</th>\n",
       "    </tr>\n",
       "    <tr>\n",
       "      <th>species</th>\n",
       "      <th></th>\n",
       "      <th></th>\n",
       "      <th></th>\n",
       "      <th></th>\n",
       "      <th></th>\n",
       "      <th></th>\n",
       "      <th></th>\n",
       "      <th></th>\n",
       "    </tr>\n",
       "  </thead>\n",
       "  <tbody>\n",
       "    <tr>\n",
       "      <th>Setosa</th>\n",
       "      <td>50.0</td>\n",
       "      <td>3.428</td>\n",
       "      <td>0.379064</td>\n",
       "      <td>2.3</td>\n",
       "      <td>3.200</td>\n",
       "      <td>3.4</td>\n",
       "      <td>3.675</td>\n",
       "      <td>4.4</td>\n",
       "    </tr>\n",
       "    <tr>\n",
       "      <th>Versicolor</th>\n",
       "      <td>50.0</td>\n",
       "      <td>2.770</td>\n",
       "      <td>0.313798</td>\n",
       "      <td>2.0</td>\n",
       "      <td>2.525</td>\n",
       "      <td>2.8</td>\n",
       "      <td>3.000</td>\n",
       "      <td>3.4</td>\n",
       "    </tr>\n",
       "    <tr>\n",
       "      <th>Virginica</th>\n",
       "      <td>50.0</td>\n",
       "      <td>2.974</td>\n",
       "      <td>0.322497</td>\n",
       "      <td>2.2</td>\n",
       "      <td>2.800</td>\n",
       "      <td>3.0</td>\n",
       "      <td>3.175</td>\n",
       "      <td>3.8</td>\n",
       "    </tr>\n",
       "  </tbody>\n",
       "</table>\n",
       "</div>"
      ],
      "text/plain": [
       "            count   mean       std  min    25%  50%    75%  max\n",
       "species                                                        \n",
       "Setosa       50.0  3.428  0.379064  2.3  3.200  3.4  3.675  4.4\n",
       "Versicolor   50.0  2.770  0.313798  2.0  2.525  2.8  3.000  3.4\n",
       "Virginica    50.0  2.974  0.322497  2.2  2.800  3.0  3.175  3.8"
      ]
     },
     "execution_count": 104,
     "metadata": {},
     "output_type": "execute_result"
    },
    {
     "data": {
      "image/png": "[encoded data removed]",
      "text/plain": [
       "<Figure size 640x480 with 1 Axes>"
      ]
     },
     "metadata": {},
     "output_type": "display_data"
    }
   ],
   "source": [
    "#4. Generate a boxplot for sepal_width grouped by species. For each boxplot calculate lower and upper whiskers, Q1,Q3 and median \n",
    "sns.boxplot(x='sepal.width', y='species', data=iris)\n",
    "iris.groupby('species')['sepal.width'].describe()"
   ]
  },
  {
   "cell_type": "code",
   "execution_count": 105,
   "metadata": {},
   "outputs": [
    {
     "data": {
      "text/plain": [
       "<Axes: xlabel='sepal.width', ylabel='species'>"
      ]
     },
     "execution_count": 105,
     "metadata": {},
     "output_type": "execute_result"
    },
    {
     "data": {
      "image/png": "[encoded data removed]",
      "text/plain": [
       "<Figure size 640x480 with 1 Axes>"
      ]
     },
     "metadata": {},
     "output_type": "display_data"
    }
   ],
   "source": [
    "#5. In the previous boxplot, overlay a swarmplot to look at individual data points\n",
    "sns.boxplot(x='sepal.width', y='species', data=iris)\n",
    "sns.swarmplot(x='sepal.width', y='species', data=iris, color='k')\n"
   ]
  },
  {
   "cell_type": "code",
   "execution_count": 106,
   "metadata": {},
   "outputs": [
    {
     "data": {
      "image/png": "[encoded data removed]",
      "text/plain": [
       "<Figure size 1200x1000 with 4 Axes>"
      ]
     },
     "metadata": {},
     "output_type": "display_data"
    }
   ],
   "source": [
    "#6. Generate a panel with 4 figures using matplotlib.pyplot subplots function. Each panel should display a boxplot by species for each of the 4 numerical variables. \n",
    "fig, ax = plt.subplots(2, 2, figsize=(12, 10))\n",
    "sns.boxplot(x='species', y='sepal.length', data=iris, ax=ax[0, 0])\n",
    "sns.boxplot(x='species', y='sepal.width', data=iris, ax=ax[0, 1])\n",
    "sns.boxplot(x='species', y='petal.length', data=iris, ax=ax[1, 0])\n",
    "sns.boxplot(x='species', y='petal.width', data=iris, ax=ax[1, 1])\n",
    "plt.tight_layout()"
   ]
  },
  {
   "cell_type": "markdown",
   "metadata": {},
   "source": [
    "#7. Wich variable better discriminates (separate) the species? \n",
    "Petal lenght y Petal width\n",
    "#8. Wich variables display outliers? In wich species? \n",
    "petal lenght y petal width have outliers en las especies versicolor y virginica"
   ]
  }
 ],
 "metadata": {
  "kernelspec": {
   "display_name": "Python 3",
   "language": "python",
   "name": "python3"
  },
  "language_info": {
   "codemirror_mode": {
    "name": "ipython",
    "version": 3
   },
   "file_extension": ".py",
   "mimetype": "text/x-python",
   "name": "python",
   "nbconvert_exporter": "python",
   "pygments_lexer": "ipython3",
   "version": "3.11.9"
  }
 },
 "nbformat": 4,
 "nbformat_minor": 2
}
